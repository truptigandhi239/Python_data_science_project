{
 "cells": [
  {
   "cell_type": "markdown",
   "metadata": {},
   "source": [
    "# Automobile Price Hypothesis Testing\n",
    "## Author - Trupti Gandhi"
   ]
  },
  {
   "cell_type": "markdown",
   "metadata": {},
   "source": [
    "### Steps\n",
    "Test hypotheses for the price of automobiles:\n",
    "\n",
    "1. Compare and test Normality the distributions of **price** and **log price** <br/>\n",
    "Use both a graphical method and a formal test. Hint: Remember these relationships will always be approximate.\n",
    "\n",
    "2. Test significance of **price (or log price)** stratified by \n",
    "a) **fuel type**, b) **aspiration**, and c) **rear vs. front wheel drive**. <br />Use both graphical methods and the formal test.\n",
    "\n",
    "3. Apply ANOVA and Tukey's HSD test to the auto price data to compare the **price (or log price** if closer to a Normal distribution) of autos stratified by **body style**.\n",
    "\n",
    "4. Graphically explore the differences between the price conditioned by the categories of each variable <br/>\n",
    "Hint: Make sure you have enough data for each category and drop categories with insufficient data.\n",
    "\n",
    "5. Use standard ANOVA and Tukey HSD to test the differences of these groups.\n"
   ]
  },
  {
   "cell_type": "code",
   "execution_count": 11,
   "metadata": {
    "collapsed": true
   },
   "outputs": [],
   "source": [
    "import plotly.plotly as py\n",
    "import numpy as np\n",
    "import matplotlib.pyplot as plt\n",
    "from plotly.graph_objs import *\n",
    "%matplotlib inline\n",
    "import pandas as pd\n",
    "import matplotlib\n",
    "import matplotlib.pyplot as plt\n",
    "from mpl_toolkits.axes_grid.axislines import Subplot\n",
    "import seaborn as sns"
   ]
  },
  {
   "cell_type": "code",
   "execution_count": 12,
   "metadata": {},
   "outputs": [
    {
     "data": {
      "text/html": [
       "<div>\n",
       "<style>\n",
       "    .dataframe thead tr:only-child th {\n",
       "        text-align: right;\n",
       "    }\n",
       "\n",
       "    .dataframe thead th {\n",
       "        text-align: left;\n",
       "    }\n",
       "\n",
       "    .dataframe tbody tr th {\n",
       "        vertical-align: top;\n",
       "    }\n",
       "</style>\n",
       "<table border=\"1\" class=\"dataframe\">\n",
       "  <thead>\n",
       "    <tr style=\"text-align: right;\">\n",
       "      <th></th>\n",
       "      <th>symboling</th>\n",
       "      <th>normalized-losses</th>\n",
       "      <th>make</th>\n",
       "      <th>fuel-type</th>\n",
       "      <th>aspiration</th>\n",
       "      <th>num-of-doors</th>\n",
       "      <th>body-style</th>\n",
       "      <th>drive-wheels</th>\n",
       "      <th>engine-location</th>\n",
       "      <th>wheel-base</th>\n",
       "      <th>...</th>\n",
       "      <th>engine-size</th>\n",
       "      <th>fuel-system</th>\n",
       "      <th>bore</th>\n",
       "      <th>stroke</th>\n",
       "      <th>compression-ratio</th>\n",
       "      <th>horsepower</th>\n",
       "      <th>peak-rpm</th>\n",
       "      <th>city-mpg</th>\n",
       "      <th>highway-mpg</th>\n",
       "      <th>price</th>\n",
       "    </tr>\n",
       "  </thead>\n",
       "  <tbody>\n",
       "    <tr>\n",
       "      <th>0</th>\n",
       "      <td>3</td>\n",
       "      <td>?</td>\n",
       "      <td>alfa-romero</td>\n",
       "      <td>gas</td>\n",
       "      <td>std</td>\n",
       "      <td>two</td>\n",
       "      <td>convertible</td>\n",
       "      <td>rwd</td>\n",
       "      <td>front</td>\n",
       "      <td>88.6</td>\n",
       "      <td>...</td>\n",
       "      <td>130</td>\n",
       "      <td>mpfi</td>\n",
       "      <td>3.47</td>\n",
       "      <td>2.68</td>\n",
       "      <td>9.0</td>\n",
       "      <td>111</td>\n",
       "      <td>5000</td>\n",
       "      <td>21</td>\n",
       "      <td>27</td>\n",
       "      <td>13495</td>\n",
       "    </tr>\n",
       "    <tr>\n",
       "      <th>1</th>\n",
       "      <td>3</td>\n",
       "      <td>?</td>\n",
       "      <td>alfa-romero</td>\n",
       "      <td>gas</td>\n",
       "      <td>std</td>\n",
       "      <td>two</td>\n",
       "      <td>convertible</td>\n",
       "      <td>rwd</td>\n",
       "      <td>front</td>\n",
       "      <td>88.6</td>\n",
       "      <td>...</td>\n",
       "      <td>130</td>\n",
       "      <td>mpfi</td>\n",
       "      <td>3.47</td>\n",
       "      <td>2.68</td>\n",
       "      <td>9.0</td>\n",
       "      <td>111</td>\n",
       "      <td>5000</td>\n",
       "      <td>21</td>\n",
       "      <td>27</td>\n",
       "      <td>16500</td>\n",
       "    </tr>\n",
       "    <tr>\n",
       "      <th>2</th>\n",
       "      <td>1</td>\n",
       "      <td>?</td>\n",
       "      <td>alfa-romero</td>\n",
       "      <td>gas</td>\n",
       "      <td>std</td>\n",
       "      <td>two</td>\n",
       "      <td>hatchback</td>\n",
       "      <td>rwd</td>\n",
       "      <td>front</td>\n",
       "      <td>94.5</td>\n",
       "      <td>...</td>\n",
       "      <td>152</td>\n",
       "      <td>mpfi</td>\n",
       "      <td>2.68</td>\n",
       "      <td>3.47</td>\n",
       "      <td>9.0</td>\n",
       "      <td>154</td>\n",
       "      <td>5000</td>\n",
       "      <td>19</td>\n",
       "      <td>26</td>\n",
       "      <td>16500</td>\n",
       "    </tr>\n",
       "    <tr>\n",
       "      <th>3</th>\n",
       "      <td>2</td>\n",
       "      <td>164</td>\n",
       "      <td>audi</td>\n",
       "      <td>gas</td>\n",
       "      <td>std</td>\n",
       "      <td>four</td>\n",
       "      <td>sedan</td>\n",
       "      <td>fwd</td>\n",
       "      <td>front</td>\n",
       "      <td>99.8</td>\n",
       "      <td>...</td>\n",
       "      <td>109</td>\n",
       "      <td>mpfi</td>\n",
       "      <td>3.19</td>\n",
       "      <td>3.40</td>\n",
       "      <td>10.0</td>\n",
       "      <td>102</td>\n",
       "      <td>5500</td>\n",
       "      <td>24</td>\n",
       "      <td>30</td>\n",
       "      <td>13950</td>\n",
       "    </tr>\n",
       "    <tr>\n",
       "      <th>4</th>\n",
       "      <td>2</td>\n",
       "      <td>164</td>\n",
       "      <td>audi</td>\n",
       "      <td>gas</td>\n",
       "      <td>std</td>\n",
       "      <td>four</td>\n",
       "      <td>sedan</td>\n",
       "      <td>4wd</td>\n",
       "      <td>front</td>\n",
       "      <td>99.4</td>\n",
       "      <td>...</td>\n",
       "      <td>136</td>\n",
       "      <td>mpfi</td>\n",
       "      <td>3.19</td>\n",
       "      <td>3.40</td>\n",
       "      <td>8.0</td>\n",
       "      <td>115</td>\n",
       "      <td>5500</td>\n",
       "      <td>18</td>\n",
       "      <td>22</td>\n",
       "      <td>17450</td>\n",
       "    </tr>\n",
       "    <tr>\n",
       "      <th>5</th>\n",
       "      <td>2</td>\n",
       "      <td>?</td>\n",
       "      <td>audi</td>\n",
       "      <td>gas</td>\n",
       "      <td>std</td>\n",
       "      <td>two</td>\n",
       "      <td>sedan</td>\n",
       "      <td>fwd</td>\n",
       "      <td>front</td>\n",
       "      <td>99.8</td>\n",
       "      <td>...</td>\n",
       "      <td>136</td>\n",
       "      <td>mpfi</td>\n",
       "      <td>3.19</td>\n",
       "      <td>3.40</td>\n",
       "      <td>8.5</td>\n",
       "      <td>110</td>\n",
       "      <td>5500</td>\n",
       "      <td>19</td>\n",
       "      <td>25</td>\n",
       "      <td>15250</td>\n",
       "    </tr>\n",
       "    <tr>\n",
       "      <th>6</th>\n",
       "      <td>1</td>\n",
       "      <td>158</td>\n",
       "      <td>audi</td>\n",
       "      <td>gas</td>\n",
       "      <td>std</td>\n",
       "      <td>four</td>\n",
       "      <td>sedan</td>\n",
       "      <td>fwd</td>\n",
       "      <td>front</td>\n",
       "      <td>105.8</td>\n",
       "      <td>...</td>\n",
       "      <td>136</td>\n",
       "      <td>mpfi</td>\n",
       "      <td>3.19</td>\n",
       "      <td>3.40</td>\n",
       "      <td>8.5</td>\n",
       "      <td>110</td>\n",
       "      <td>5500</td>\n",
       "      <td>19</td>\n",
       "      <td>25</td>\n",
       "      <td>17710</td>\n",
       "    </tr>\n",
       "    <tr>\n",
       "      <th>7</th>\n",
       "      <td>1</td>\n",
       "      <td>?</td>\n",
       "      <td>audi</td>\n",
       "      <td>gas</td>\n",
       "      <td>std</td>\n",
       "      <td>four</td>\n",
       "      <td>wagon</td>\n",
       "      <td>fwd</td>\n",
       "      <td>front</td>\n",
       "      <td>105.8</td>\n",
       "      <td>...</td>\n",
       "      <td>136</td>\n",
       "      <td>mpfi</td>\n",
       "      <td>3.19</td>\n",
       "      <td>3.40</td>\n",
       "      <td>8.5</td>\n",
       "      <td>110</td>\n",
       "      <td>5500</td>\n",
       "      <td>19</td>\n",
       "      <td>25</td>\n",
       "      <td>18920</td>\n",
       "    </tr>\n",
       "    <tr>\n",
       "      <th>8</th>\n",
       "      <td>1</td>\n",
       "      <td>158</td>\n",
       "      <td>audi</td>\n",
       "      <td>gas</td>\n",
       "      <td>turbo</td>\n",
       "      <td>four</td>\n",
       "      <td>sedan</td>\n",
       "      <td>fwd</td>\n",
       "      <td>front</td>\n",
       "      <td>105.8</td>\n",
       "      <td>...</td>\n",
       "      <td>131</td>\n",
       "      <td>mpfi</td>\n",
       "      <td>3.13</td>\n",
       "      <td>3.40</td>\n",
       "      <td>8.3</td>\n",
       "      <td>140</td>\n",
       "      <td>5500</td>\n",
       "      <td>17</td>\n",
       "      <td>20</td>\n",
       "      <td>23875</td>\n",
       "    </tr>\n",
       "    <tr>\n",
       "      <th>9</th>\n",
       "      <td>0</td>\n",
       "      <td>?</td>\n",
       "      <td>audi</td>\n",
       "      <td>gas</td>\n",
       "      <td>turbo</td>\n",
       "      <td>two</td>\n",
       "      <td>hatchback</td>\n",
       "      <td>4wd</td>\n",
       "      <td>front</td>\n",
       "      <td>99.5</td>\n",
       "      <td>...</td>\n",
       "      <td>131</td>\n",
       "      <td>mpfi</td>\n",
       "      <td>3.13</td>\n",
       "      <td>3.40</td>\n",
       "      <td>7.0</td>\n",
       "      <td>160</td>\n",
       "      <td>5500</td>\n",
       "      <td>16</td>\n",
       "      <td>22</td>\n",
       "      <td>?</td>\n",
       "    </tr>\n",
       "  </tbody>\n",
       "</table>\n",
       "<p>10 rows × 26 columns</p>\n",
       "</div>"
      ],
      "text/plain": [
       "   symboling normalized-losses         make fuel-type aspiration num-of-doors  \\\n",
       "0          3                 ?  alfa-romero       gas        std          two   \n",
       "1          3                 ?  alfa-romero       gas        std          two   \n",
       "2          1                 ?  alfa-romero       gas        std          two   \n",
       "3          2               164         audi       gas        std         four   \n",
       "4          2               164         audi       gas        std         four   \n",
       "5          2                 ?         audi       gas        std          two   \n",
       "6          1               158         audi       gas        std         four   \n",
       "7          1                 ?         audi       gas        std         four   \n",
       "8          1               158         audi       gas      turbo         four   \n",
       "9          0                 ?         audi       gas      turbo          two   \n",
       "\n",
       "    body-style drive-wheels engine-location  wheel-base  ...    engine-size  \\\n",
       "0  convertible          rwd           front        88.6  ...            130   \n",
       "1  convertible          rwd           front        88.6  ...            130   \n",
       "2    hatchback          rwd           front        94.5  ...            152   \n",
       "3        sedan          fwd           front        99.8  ...            109   \n",
       "4        sedan          4wd           front        99.4  ...            136   \n",
       "5        sedan          fwd           front        99.8  ...            136   \n",
       "6        sedan          fwd           front       105.8  ...            136   \n",
       "7        wagon          fwd           front       105.8  ...            136   \n",
       "8        sedan          fwd           front       105.8  ...            131   \n",
       "9    hatchback          4wd           front        99.5  ...            131   \n",
       "\n",
       "   fuel-system  bore  stroke compression-ratio horsepower  peak-rpm city-mpg  \\\n",
       "0         mpfi  3.47    2.68               9.0        111      5000       21   \n",
       "1         mpfi  3.47    2.68               9.0        111      5000       21   \n",
       "2         mpfi  2.68    3.47               9.0        154      5000       19   \n",
       "3         mpfi  3.19    3.40              10.0        102      5500       24   \n",
       "4         mpfi  3.19    3.40               8.0        115      5500       18   \n",
       "5         mpfi  3.19    3.40               8.5        110      5500       19   \n",
       "6         mpfi  3.19    3.40               8.5        110      5500       19   \n",
       "7         mpfi  3.19    3.40               8.5        110      5500       19   \n",
       "8         mpfi  3.13    3.40               8.3        140      5500       17   \n",
       "9         mpfi  3.13    3.40               7.0        160      5500       16   \n",
       "\n",
       "  highway-mpg  price  \n",
       "0          27  13495  \n",
       "1          27  16500  \n",
       "2          26  16500  \n",
       "3          30  13950  \n",
       "4          22  17450  \n",
       "5          25  15250  \n",
       "6          25  17710  \n",
       "7          25  18920  \n",
       "8          20  23875  \n",
       "9          22      ?  \n",
       "\n",
       "[10 rows x 26 columns]"
      ]
     },
     "execution_count": 12,
     "metadata": {},
     "output_type": "execute_result"
    }
   ],
   "source": [
    "# Cleaned up Dataset location\n",
    "fileName = \"https://library.startlearninglabs.uw.edu/DATASCI410/Datasets/Automobile%20price%20data%20_Raw_.csv\"\n",
    "Automobile = pd.read_csv(fileName, usecols=range(0,26))\n",
    "Automobile.head(10)"
   ]
  },
  {
   "cell_type": "code",
   "execution_count": 13,
   "metadata": {},
   "outputs": [
    {
     "data": {
      "text/plain": [
       "(205, 26)"
      ]
     },
     "execution_count": 13,
     "metadata": {},
     "output_type": "execute_result"
    }
   ],
   "source": [
    "Automobile.shape"
   ]
  },
  {
   "cell_type": "code",
   "execution_count": 14,
   "metadata": {},
   "outputs": [
    {
     "name": "stdout",
     "output_type": "stream",
     "text": [
      "symboling             0\n",
      "normalized-losses    41\n",
      "make                  0\n",
      "fuel-type             0\n",
      "aspiration            0\n",
      "num-of-doors          2\n",
      "body-style            0\n",
      "drive-wheels          0\n",
      "engine-location       0\n",
      "wheel-base            0\n",
      "length                0\n",
      "width                 0\n",
      "height                0\n",
      "curb-weight           0\n",
      "engine-type           0\n",
      "num-of-cylinders      0\n",
      "engine-size           0\n",
      "fuel-system           0\n",
      "bore                  4\n",
      "stroke                4\n",
      "compression-ratio     0\n",
      "horsepower            2\n",
      "peak-rpm              2\n",
      "city-mpg              0\n",
      "highway-mpg           0\n",
      "price                 4\n",
      "dtype: int64\n"
     ]
    }
   ],
   "source": [
    "Automobile_df= Automobile.replace('[?]', np.NaN, regex = True)\n",
    "print(Automobile_df.isnull().sum())"
   ]
  },
  {
   "cell_type": "code",
   "execution_count": 15,
   "metadata": {
    "collapsed": true
   },
   "outputs": [],
   "source": [
    "Automobile_df= Automobile_df.dropna()"
   ]
  },
  {
   "cell_type": "code",
   "execution_count": 16,
   "metadata": {
    "collapsed": true
   },
   "outputs": [],
   "source": [
    "Automobile_df= Automobile_df.reset_index(drop=True)"
   ]
  },
  {
   "cell_type": "code",
   "execution_count": 17,
   "metadata": {},
   "outputs": [
    {
     "name": "stdout",
     "output_type": "stream",
     "text": [
      "symboling              int64\n",
      "normalized-losses     object\n",
      "make                  object\n",
      "fuel-type             object\n",
      "aspiration            object\n",
      "num-of-doors          object\n",
      "body-style            object\n",
      "drive-wheels          object\n",
      "engine-location       object\n",
      "wheel-base           float64\n",
      "length               float64\n",
      "width                float64\n",
      "height               float64\n",
      "curb-weight            int64\n",
      "engine-type           object\n",
      "num-of-cylinders      object\n",
      "engine-size            int64\n",
      "fuel-system           object\n",
      "bore                  object\n",
      "stroke                object\n",
      "compression-ratio    float64\n",
      "horsepower            object\n",
      "peak-rpm              object\n",
      "city-mpg               int64\n",
      "highway-mpg            int64\n",
      "price                 object\n",
      "dtype: object\n"
     ]
    }
   ],
   "source": [
    "print(Automobile_df.dtypes)"
   ]
  },
  {
   "cell_type": "code",
   "execution_count": 18,
   "metadata": {},
   "outputs": [
    {
     "data": {
      "text/plain": [
       "Index(['symboling', 'normalized-losses', 'make', 'fuel-type', 'aspiration',\n",
       "       'num-of-doors', 'body-style', 'drive-wheels', 'engine-location',\n",
       "       'wheel-base', 'length', 'width', 'height', 'curb-weight', 'engine-type',\n",
       "       'num-of-cylinders', 'engine-size', 'fuel-system', 'bore', 'stroke',\n",
       "       'compression-ratio', 'horsepower', 'peak-rpm', 'city-mpg',\n",
       "       'highway-mpg', 'price'],\n",
       "      dtype='object')"
      ]
     },
     "execution_count": 18,
     "metadata": {},
     "output_type": "execute_result"
    }
   ],
   "source": [
    "Automobile_df.columns"
   ]
  },
  {
   "cell_type": "code",
   "execution_count": 19,
   "metadata": {
    "collapsed": true
   },
   "outputs": [],
   "source": [
    "  Automobile_df[['normalized-losses', 'bore', 'stroke',\n",
    "       'horsepower', 'peak-rpm', 'price']] = Automobile_df[['normalized-losses', 'bore', 'stroke',\n",
    "       'horsepower', 'peak-rpm', 'price']].astype(float)"
   ]
  },
  {
   "cell_type": "code",
   "execution_count": 20,
   "metadata": {},
   "outputs": [
    {
     "name": "stdout",
     "output_type": "stream",
     "text": [
      "symboling              int64\n",
      "normalized-losses    float64\n",
      "make                  object\n",
      "fuel-type             object\n",
      "aspiration            object\n",
      "num-of-doors          object\n",
      "body-style            object\n",
      "drive-wheels          object\n",
      "engine-location       object\n",
      "wheel-base           float64\n",
      "length               float64\n",
      "width                float64\n",
      "height               float64\n",
      "curb-weight            int64\n",
      "engine-type           object\n",
      "num-of-cylinders      object\n",
      "engine-size            int64\n",
      "fuel-system           object\n",
      "bore                 float64\n",
      "stroke               float64\n",
      "compression-ratio    float64\n",
      "horsepower           float64\n",
      "peak-rpm             float64\n",
      "city-mpg               int64\n",
      "highway-mpg            int64\n",
      "price                float64\n",
      "dtype: object\n"
     ]
    }
   ],
   "source": [
    "print(Automobile_df.dtypes)"
   ]
  },
  {
   "cell_type": "markdown",
   "metadata": {},
   "source": [
    "Compare and test Normality the distributions of price and log price "
   ]
  },
  {
   "cell_type": "code",
   "execution_count": 21,
   "metadata": {
    "collapsed": true
   },
   "outputs": [],
   "source": [
    "Automobile_df['log_price']= np.log(Automobile_df['price'])"
   ]
  },
  {
   "cell_type": "code",
   "execution_count": 22,
   "metadata": {
    "collapsed": true
   },
   "outputs": [],
   "source": [
    "import numpy.random as nr\n",
    "nr.seed(1357)\n",
    "norm1 = Automobile_df['price']\n",
    "norm2 = Automobile_df['log_price']"
   ]
  },
  {
   "cell_type": "code",
   "execution_count": 23,
   "metadata": {},
   "outputs": [
    {
     "data": {
      "image/png": "[encoded data removed]",
      "text/plain": [
       "<matplotlib.figure.Figure at 0x1b9b0801358>"
      ]
     },
     "metadata": {},
     "output_type": "display_data"
    }
   ],
   "source": [
    "def qq_plot(vec1, vec2):\n",
    "    import matplotlib.pyplot as plt\n",
    "    import scipy.stats as ss\n",
    "    plt.figure(figsize=(10, 10)).gca() # define axis\n",
    "    ax1 = plt.subplot(221) ## setup the left subplot\n",
    "    ss.probplot(vec1, plot = ax1) ## Plot the left subplot\n",
    "    ax1 = plt.subplot(222) ## Set up the right subplot\n",
    "    ss.probplot(vec2, plot = ax1) ## Plot the right subplot\n",
    "qq_plot(norm1, norm2) "
   ]
  },
  {
   "cell_type": "markdown",
   "metadata": {},
   "source": [
    " Q–Q (quantile-quantile) plot is a probability plot, which is a graphical method for comparing two probability distributions by plotting their quantiles against each other.\n",
    " \n",
    "A normal Q–Q plot comparing randomly generated, independent standard normal data on the vertical axis to a standard normal population on the horizontal axis. The linearity of the points suggests that the data are normally distributed.\n",
    " \n",
    "The curved pattern in fig. 1 st suggests that the price value are not normally distributed.\n",
    "The curved pattern in fig. 2 nd suggests that the log price value is closed to normally distribution."
   ]
  },
  {
   "cell_type": "code",
   "execution_count": 24,
   "metadata": {},
   "outputs": [
    {
     "name": "stdout",
     "output_type": "stream",
     "text": [
      "NormaltestResult(statistic=53.772062304151333, pvalue=2.1064202945306713e-12)\n",
      "NormaltestResult(statistic=11.959170318658108, pvalue=0.0025298755698514989)\n"
     ]
    }
   ],
   "source": [
    "from numpy import random\n",
    "import scipy.stats as ss\n",
    "\n",
    "a = ss.normaltest(Automobile_df['price'])\n",
    "print(a)\n",
    "b = ss.normaltest(Automobile_df['log_price'])\n",
    "print(b)"
   ]
  },
  {
   "cell_type": "code",
   "execution_count": 25,
   "metadata": {},
   "outputs": [
    {
     "data": {
      "text/plain": [
       "Text(0,0.5,'Density')"
      ]
     },
     "execution_count": 25,
     "metadata": {},
     "output_type": "execute_result"
    },
    {
     "data": {
      "image/png": "[encoded data removed]",
      "text/plain": [
       "<matplotlib.figure.Figure at 0x1b9b0840160>"
      ]
     },
     "metadata": {},
     "output_type": "display_data"
    }
   ],
   "source": [
    "\n",
    "import matplotlib.pyplot as plt\n",
    "import seaborn as sns\n",
    "plt.figure(figsize=(10, 10)).gca() # define axis\n",
    "ax1 = plt.subplot(221) ## setup the left subplot\n",
    "sns.kdeplot(Automobile_df.loc[:, 'price'], ax = ax1)\n",
    "plt.vlines(Automobile_df.loc[:, 'price'].mean(),     # Plot black line at mean\n",
    "           ymin=0, \n",
    "           ymax=0.000056,\n",
    "           linewidth=5.0)\n",
    "plt.vlines(Automobile_df.loc[:, 'price'].median(),   # Plot red line at median\n",
    "           ymin=0, \n",
    "           ymax=0.00009, \n",
    "           linewidth=2.0,\n",
    "           color=\"red\")\n",
    "ax1.set_title('KDE plot of price') # Give the plot a main title\n",
    "ax1.set_xlabel('price') # Set text for the x axis\n",
    "ax1.set_ylabel('Density')# Set text for y axis\n",
    "ax1 = plt.subplot(222) ## Set up the right subplot  \n",
    "sns.kdeplot(Automobile_df.loc[:, 'log_price'], ax = ax1)\n",
    "plt.vlines(Automobile_df.loc[:, 'log_price'].mean(),     # Plot black line at mean\n",
    "           ymin=0, \n",
    "           ymax=.77,\n",
    "           linewidth=5.0)\n",
    "plt.vlines(Automobile_df.loc[:, 'log_price'].median(),   # Plot red line at median\n",
    "           ymin=0, \n",
    "           ymax=.85, \n",
    "           linewidth=2.0,\n",
    "           color=\"red\")\n",
    "ax1.set_title('KDE plot of log price') # Give the plot a main title\n",
    "ax1.set_xlabel('Log price') # Set text for the x axis\n",
    "ax1.set_ylabel('Density')# Set text for y axis"
   ]
  },
  {
   "cell_type": "markdown",
   "metadata": {},
   "source": [
    "In skewed distributions, the mean tends to get pulled in the direction of the skew, while the median tends to resist the effects of skew.One more thing, The mean is also influenced heavily by outliers, while the median resists the influence of outliers."
   ]
  },
  {
   "cell_type": "markdown",
   "metadata": {},
   "source": [
    "**Part2 #**  Test significance of price (or log price) stratified by a) fuel type, b) aspiration, and c) rear vs. front wheel drive. Use both graphical methods and the formal test."
   ]
  },
  {
   "cell_type": "code",
   "execution_count": 26,
   "metadata": {
    "collapsed": true
   },
   "outputs": [],
   "source": [
    "def t_test(a, b, alpha, alternative='two-sided'):\n",
    "    from scipy import stats\n",
    "    import scipy.stats as ss\n",
    "    import pandas as pd\n",
    "    import statsmodels.stats.weightstats as ws\n",
    "    \n",
    "    diff = a.mean() - b.mean()\n",
    "\n",
    "    res = ss.ttest_ind(a, b)\n",
    "      \n",
    "    means = ws.CompareMeans(ws.DescrStatsW(a), ws.DescrStatsW(b))\n",
    "    confint = means.tconfint_diff(alpha=alpha, alternative=alternative, usevar='unequal') \n",
    "    degfree = means.dof_satt()\n",
    "\n",
    "    index = ['DegFreedom', 'Difference', 'Statistic', 'PValue', 'Low95CI', 'High95CI']\n",
    "    return pd.Series([degfree, diff, res[0], res[1], confint[0], confint[1]], index = index)"
   ]
  },
  {
   "cell_type": "markdown",
   "metadata": {},
   "source": [
    "#### Fuel type vs Price"
   ]
  },
  {
   "cell_type": "code",
   "execution_count": 27,
   "metadata": {},
   "outputs": [
    {
     "name": "stdout",
     "output_type": "stream",
     "text": [
      "DegFreedom       15.050468\n",
      "Difference    -5238.023611\n",
      "Statistic        -3.391997\n",
      "PValue            0.000878\n",
      "Low95CI      -10206.501896\n",
      "High95CI       -269.545326\n",
      "dtype: float64\n"
     ]
    }
   ],
   "source": [
    "gas = Automobile_df.loc[Automobile_df.loc[:,'fuel-type']=='gas','price']\n",
    "diesel = Automobile_df.loc[Automobile_df.loc[:,'fuel-type']=='diesel','price']\n",
    "\n",
    "test_fuel = t_test(gas, diesel, alpha = 0.05)\n",
    "print(test_fuel)"
   ]
  },
  {
   "cell_type": "markdown",
   "metadata": {},
   "source": [
    "As we know if the p-value is less than 0.05, we reject the null hypothesis that there's no difference between the means and conclude that a significant difference does exist. If the p-value is larger than 0.05, we cannot conclude that a significant difference exists. \n",
    "\n",
    "The test yields a p-value of 0.000878, which means there is a .08% chance we'd see sample data this far apart if the two groups tested are actually identical. If we were using a 95% confidence level we would **fail to reject the null hypothesis**, since the p-value is greater than the corresponding significance level of 5%."
   ]
  },
  {
   "cell_type": "code",
   "execution_count": 28,
   "metadata": {},
   "outputs": [
    {
     "data": {
      "image/png": "[encoded data removed]",
      "text/plain": [
       "<matplotlib.figure.Figure at 0x1b9b07f1ba8>"
      ]
     },
     "metadata": {},
     "output_type": "display_data"
    }
   ],
   "source": [
    "\n",
    "%matplotlib inline\n",
    "def hist_plot(vec, bins):\n",
    "    import matplotlib.pyplot as plt\n",
    "    from statistics import mean\n",
    "    plt.hist(vec, bins = bins)\n",
    "    plt.axvline(mean(vec), color = 'red')\n",
    "    plt.ylabel('Frequency')\n",
    "    plt.xlabel('Value')\n",
    "    \n",
    "def hist_mean_ci(vec, t_test, bins):\n",
    "    import matplotlib.pyplot as plt\n",
    "    from statistics import mean\n",
    "    upper = mean(vec) + t_test[5] - t_test[1]\n",
    "    lower = mean(vec) + t_test[4] - t_test[1]\n",
    "    plt.hist(vec, bins = bins)\n",
    "    plt.axvline(mean(vec), color = 'red')\n",
    "    plt.axvline(upper, color = 'red', linestyle='--')\n",
    "    plt.axvline(lower, color = 'red', linestyle='--')\n",
    "    plt.ylabel('Frequency')\n",
    "    plt.xlabel('Value')\n",
    "\n",
    "def plot_t(a, b, t_test, cols=['Gas', 'Diesel'], nbins = 20):\n",
    "    import matplotlib.pyplot as plt\n",
    "    minx = min([min(a), min(b)])\n",
    "    maxx = max([max(a), max(b)])\n",
    "    stepx = (maxx - minx)/(nbins + 1)\n",
    "    bins = [minx + i * stepx for i in range(nbins + 1)]\n",
    "    plt.subplot(2, 1, 1) # The first plot\n",
    "    hist_mean_ci(a, t_test, bins)\n",
    "    plt.title('Histograme of ' + cols[0] + ' and ' + cols[1])\n",
    "    plt.subplot(2, 1, 2) # The next plot\n",
    "    hist_plot(b, bins)\n",
    "plot_t(gas, diesel, test_fuel)\n",
    "    "
   ]
  },
  {
   "cell_type": "markdown",
   "metadata": {},
   "source": [
    "Notice that the mean of the population in the lower plot are within the confidence interval of the difference of means of the population. This confirms that we **cannot reject** the null hypothesis that there is no significant difference in these means"
   ]
  },
  {
   "cell_type": "markdown",
   "metadata": {},
   "source": [
    "#### Aspiration vs Price"
   ]
  },
  {
   "cell_type": "code",
   "execution_count": 29,
   "metadata": {},
   "outputs": [
    {
     "data": {
      "text/plain": [
       "array(['std', 'turbo'], dtype=object)"
      ]
     },
     "execution_count": 29,
     "metadata": {},
     "output_type": "execute_result"
    }
   ],
   "source": [
    "Automobile_df['aspiration'].unique()"
   ]
  },
  {
   "cell_type": "code",
   "execution_count": 30,
   "metadata": {},
   "outputs": [
    {
     "name": "stdout",
     "output_type": "stream",
     "text": [
      "DegFreedom       15.050468\n",
      "Difference    -5238.023611\n",
      "Statistic        -3.391997\n",
      "PValue            0.000878\n",
      "Low95CI      -10206.501896\n",
      "High95CI       -269.545326\n",
      "dtype: float64\n"
     ]
    }
   ],
   "source": [
    "std = Automobile_df.loc[Automobile_df.loc[:,'aspiration']=='std','price']\n",
    "turbo = Automobile_df.loc[Automobile_df.loc[:,'aspiration']=='turbo','price']\n",
    "\n",
    "test_aspiration = t_test(std, turbo, alpha = 0.05)\n",
    "print(test_fuel)"
   ]
  },
  {
   "cell_type": "markdown",
   "metadata": {},
   "source": [
    "As we know if the p-value is less than 0.05, we reject the null hypothesis. If we were using a 95% confidence level we would ** reject the null hypothesis** in this case , since the p-value is greater than the corresponding significance level of 5%."
   ]
  },
  {
   "cell_type": "code",
   "execution_count": 31,
   "metadata": {},
   "outputs": [
    {
     "data": {
      "image/png": "[encoded data removed]",
      "text/plain": [
       "<matplotlib.figure.Figure at 0x1b9b113bf60>"
      ]
     },
     "metadata": {},
     "output_type": "display_data"
    }
   ],
   "source": [
    "def plot_t(a, b, t_test, cols=['std', 'turbo'], nbins = 20):\n",
    "    import matplotlib.pyplot as plt\n",
    "    minx = min([min(a), min(b)])\n",
    "    maxx = max([max(a), max(b)])\n",
    "    stepx = (maxx - minx)/(nbins + 1)\n",
    "    bins = [minx + i * stepx for i in range(nbins + 1)]\n",
    "    plt.subplot(2, 1, 1) # The first plot\n",
    "    hist_mean_ci(a, t_test, bins)\n",
    "    plt.title('Histograme of ' + cols[0] + ' and ' + cols[1])\n",
    "    plt.subplot(2, 1, 2) # The next plot\n",
    "    hist_plot(b, bins)\n",
    "plot_t(std, turbo, test_aspiration)    "
   ]
  },
  {
   "cell_type": "markdown",
   "metadata": {},
   "source": [
    "Notice that the mean of the population in the lower plot are not within the confidence interval of the difference of means of the population. This confirms that we **can reject the null hypothesis** that there is no significant difference in these means. "
   ]
  },
  {
   "cell_type": "markdown",
   "metadata": {},
   "source": [
    "#### drive-wheels vs price"
   ]
  },
  {
   "cell_type": "code",
   "execution_count": 32,
   "metadata": {},
   "outputs": [
    {
     "data": {
      "text/plain": [
       "array(['fwd', '4wd', 'rwd'], dtype=object)"
      ]
     },
     "execution_count": 32,
     "metadata": {},
     "output_type": "execute_result"
    }
   ],
   "source": [
    "Automobile_df['drive-wheels'].unique()"
   ]
  },
  {
   "cell_type": "code",
   "execution_count": 33,
   "metadata": {},
   "outputs": [
    {
     "name": "stdout",
     "output_type": "stream",
     "text": [
      "DegFreedom    5.490245e+01\n",
      "Difference   -8.858179e+03\n",
      "Statistic    -1.143320e+01\n",
      "PValue        3.965316e-22\n",
      "Low95CI      -1.083934e+04\n",
      "High95CI     -6.877018e+03\n",
      "dtype: float64\n"
     ]
    }
   ],
   "source": [
    "fwd = Automobile_df.loc[Automobile_df.loc[:,'drive-wheels']=='fwd','price']\n",
    "rwd = Automobile_df.loc[Automobile_df.loc[:,'drive-wheels']=='rwd','price']\n",
    "\n",
    "test_fuel = t_test(fwd,rwd, alpha = 0.05)\n",
    "print(test_fuel)"
   ]
  },
  {
   "cell_type": "markdown",
   "metadata": {},
   "source": [
    "As we know if the p-value is less than 0.05, we reject the null hypothesis. If we were using a 95% confidence level we would ** reject the null hypothesis** in this case , since the p-value is greater than the corresponding significance level of 5%."
   ]
  },
  {
   "cell_type": "code",
   "execution_count": 34,
   "metadata": {},
   "outputs": [
    {
     "data": {
      "image/png": "[encoded data removed]",
      "text/plain": [
       "<matplotlib.figure.Figure at 0x1b9b14e66d8>"
      ]
     },
     "metadata": {},
     "output_type": "display_data"
    }
   ],
   "source": [
    "def plot_t(a, b, t_test, cols=['std', 'turbo'], nbins = 20):\n",
    "    import matplotlib.pyplot as plt\n",
    "    minx = min([min(a), min(b)])\n",
    "    maxx = max([max(a), max(b)])\n",
    "    stepx = (maxx - minx)/(nbins + 1)\n",
    "    bins = [minx + i * stepx for i in range(nbins + 1)]\n",
    "    plt.subplot(2, 1, 1) # The first plot\n",
    "    hist_mean_ci(a, t_test, bins)\n",
    "    plt.title('Histograme of ' + cols[0] + ' and ' + cols[1])\n",
    "    plt.subplot(2, 1, 2) # The next plot\n",
    "    hist_plot(b, bins)\n",
    "plot_t(fwd, rwd, test_fuel) "
   ]
  },
  {
   "cell_type": "markdown",
   "metadata": {},
   "source": [
    "Notice that the mean of the population in the lower plot are not within the confidence interval of the difference of means of the population. This confirms that we **can reject the null hypothesis** that there is no significant difference in these means. "
   ]
  },
  {
   "cell_type": "markdown",
   "metadata": {},
   "source": [
    "**Part 3 #** Apply ANOVA and Tukey's HSD test to the auto price data to compare the price (or log price if closer to a Normal distribution) of autos stratified by body style."
   ]
  },
  {
   "cell_type": "code",
   "execution_count": 35,
   "metadata": {},
   "outputs": [
    {
     "data": {
      "text/plain": [
       "array(['sedan', 'hatchback', 'wagon', 'hardtop', 'convertible'], dtype=object)"
      ]
     },
     "execution_count": 35,
     "metadata": {},
     "output_type": "execute_result"
    }
   ],
   "source": [
    "Automobile_df['body-style'].unique()"
   ]
  },
  {
   "cell_type": "code",
   "execution_count": 36,
   "metadata": {},
   "outputs": [
    {
     "data": {
      "text/html": [
       "<div>\n",
       "<style>\n",
       "    .dataframe thead tr:only-child th {\n",
       "        text-align: right;\n",
       "    }\n",
       "\n",
       "    .dataframe thead th {\n",
       "        text-align: left;\n",
       "    }\n",
       "\n",
       "    .dataframe tbody tr th {\n",
       "        vertical-align: top;\n",
       "    }\n",
       "</style>\n",
       "<table border=\"1\" class=\"dataframe\">\n",
       "  <thead>\n",
       "    <tr style=\"text-align: right;\">\n",
       "      <th></th>\n",
       "      <th>counts</th>\n",
       "    </tr>\n",
       "    <tr>\n",
       "      <th>body-style</th>\n",
       "      <th></th>\n",
       "    </tr>\n",
       "  </thead>\n",
       "  <tbody>\n",
       "    <tr>\n",
       "      <th>convertible</th>\n",
       "      <td>2</td>\n",
       "    </tr>\n",
       "    <tr>\n",
       "      <th>hardtop</th>\n",
       "      <td>5</td>\n",
       "    </tr>\n",
       "    <tr>\n",
       "      <th>hatchback</th>\n",
       "      <td>56</td>\n",
       "    </tr>\n",
       "    <tr>\n",
       "      <th>sedan</th>\n",
       "      <td>79</td>\n",
       "    </tr>\n",
       "    <tr>\n",
       "      <th>wagon</th>\n",
       "      <td>17</td>\n",
       "    </tr>\n",
       "  </tbody>\n",
       "</table>\n",
       "</div>"
      ],
      "text/plain": [
       "             counts\n",
       "body-style         \n",
       "convertible       2\n",
       "hardtop           5\n",
       "hatchback        56\n",
       "sedan            79\n",
       "wagon            17"
      ]
     },
     "execution_count": 36,
     "metadata": {},
     "output_type": "execute_result"
    }
   ],
   "source": [
    "Automobile_df['counts'] = 1\n",
    "Automobile_df.loc[:, ['body-style', 'counts']].groupby(['body-style']).agg('count')"
   ]
  },
  {
   "cell_type": "markdown",
   "metadata": {},
   "source": [
    "The ANOVA test lets us check whether a numeric response variable varies according to the levels of a categorical variable."
   ]
  },
  {
   "cell_type": "code",
   "execution_count": 37,
   "metadata": {},
   "outputs": [
    {
     "name": "stderr",
     "output_type": "stream",
     "text": [
      "C:\\Users\\Gandhi\\Anaconda3\\lib\\site-packages\\numpy\\core\\fromnumeric.py:57: FutureWarning:\n",
      "\n",
      "reshape is deprecated and will raise in a subsequent release. Please use .values.reshape(...) instead\n",
      "\n"
     ]
    },
    {
     "data": {
      "text/plain": [
       "(0.0, 50000.0)"
      ]
     },
     "execution_count": 37,
     "metadata": {},
     "output_type": "execute_result"
    },
    {
     "data": {
      "image/png": "[encoded data removed]",
      "text/plain": [
       "<matplotlib.figure.Figure at 0x1b9b0801630>"
      ]
     },
     "metadata": {},
     "output_type": "display_data"
    }
   ],
   "source": [
    "import matplotlib.pyplot as plt\n",
    "fig = plt.figure(figsize=(8,8)) # define plot area\n",
    "ax = fig.gca() # define axis \n",
    "Automobile_df.loc[:,['price', 'body-style']].boxplot(by = 'body-style', ax = ax)\n",
    "ax.set_title('Box plot of price') # Give the plot a main title\n",
    "ax.set_ylabel('Auto Price')# Set text for y axis\n",
    "ax.set_ylim(0.0, 50000.0) # Set the limits of the y axis"
   ]
  },
  {
   "cell_type": "code",
   "execution_count": 38,
   "metadata": {},
   "outputs": [
    {
     "name": "stdout",
     "output_type": "stream",
     "text": [
      "       price\n",
      "17    8921.0\n",
      "25    7295.0\n",
      "45   28248.0\n",
      "63    7349.0\n",
      "67    7999.0\n",
      "72   14399.0\n",
      "89    8921.0\n",
      "105   7463.0\n",
      "106  10198.0\n",
      "107   8013.0\n",
      "108  11694.0\n",
      "112   6918.0\n",
      "113   7898.0\n",
      "114   8778.0\n",
      "149  13415.0\n",
      "151  16515.0\n",
      "153  18950.0\n"
     ]
    }
   ],
   "source": [
    "wagon = Automobile_df.loc[Automobile_df['body-style'] == 'wagon' , ['price']]\n",
    "print (wagon)"
   ]
  },
  {
   "cell_type": "code",
   "execution_count": 39,
   "metadata": {},
   "outputs": [
    {
     "name": "stdout",
     "output_type": "stream",
     "text": [
      "       price\n",
      "0    13950.0\n",
      "1    17450.0\n",
      "2    17710.0\n",
      "3    23875.0\n",
      "4    16430.0\n",
      "5    16925.0\n",
      "6    20970.0\n",
      "7    21105.0\n",
      "10    6575.0\n",
      "15    6692.0\n",
      "16    7609.0\n",
      "24    7295.0\n",
      "28    8845.0\n",
      "29   10295.0\n",
      "30   12945.0\n",
      "31   10345.0\n",
      "32   32250.0\n",
      "36    6695.0\n",
      "37    7395.0\n",
      "39    8495.0\n",
      "41   10245.0\n",
      "43   18280.0\n",
      "44   25552.0\n",
      "47   31600.0\n",
      "55    6989.0\n",
      "56    8189.0\n",
      "57    9279.0\n",
      "58    9279.0\n",
      "59    5499.0\n",
      "60    7099.0\n",
      "..       ...\n",
      "100   7126.0\n",
      "101   7775.0\n",
      "102   9960.0\n",
      "103   9233.0\n",
      "104  11259.0\n",
      "115   6938.0\n",
      "117   7898.0\n",
      "119   7738.0\n",
      "121   9258.0\n",
      "122   8058.0\n",
      "124   9298.0\n",
      "132   8948.0\n",
      "133  10698.0\n",
      "135  10898.0\n",
      "139  15690.0\n",
      "140   7775.0\n",
      "141   7975.0\n",
      "142   7995.0\n",
      "143   8195.0\n",
      "144   8495.0\n",
      "145   9495.0\n",
      "146   9995.0\n",
      "148  12940.0\n",
      "150  15985.0\n",
      "152  18420.0\n",
      "154  16845.0\n",
      "155  19045.0\n",
      "156  21485.0\n",
      "157  22470.0\n",
      "158  22625.0\n",
      "\n",
      "[79 rows x 1 columns]\n"
     ]
    }
   ],
   "source": [
    "sedan = Automobile_df.loc[Automobile_df['body-style'] == 'sedan' , ['price']]\n",
    "print (sedan)"
   ]
  },
  {
   "cell_type": "code",
   "execution_count": 40,
   "metadata": {},
   "outputs": [
    {
     "name": "stdout",
     "output_type": "stream",
     "text": [
      "       price\n",
      "8     5151.0\n",
      "9     6295.0\n",
      "11    5572.0\n",
      "12    6377.0\n",
      "13    7957.0\n",
      "14    6229.0\n",
      "18   12964.0\n",
      "19    6479.0\n",
      "20    6855.0\n",
      "21    5399.0\n",
      "22    6529.0\n",
      "23    7129.0\n",
      "26    7895.0\n",
      "27    9095.0\n",
      "33    5195.0\n",
      "34    6095.0\n",
      "35    6795.0\n",
      "38    8845.0\n",
      "40   10595.0\n",
      "42   11245.0\n",
      "49    5389.0\n",
      "50    6189.0\n",
      "51    6669.0\n",
      "52    7689.0\n",
      "53    9959.0\n",
      "54    8499.0\n",
      "65    7799.0\n",
      "69    8949.0\n",
      "74   17199.0\n",
      "75   19699.0\n",
      "76   18399.0\n",
      "84    5572.0\n",
      "85    7957.0\n",
      "86    6229.0\n",
      "90   22018.0\n",
      "91   11850.0\n",
      "93   15040.0\n",
      "95   18150.0\n",
      "97    5118.0\n",
      "98    7053.0\n",
      "99    7603.0\n",
      "109   5348.0\n",
      "110   6338.0\n",
      "111   6488.0\n",
      "116   7198.0\n",
      "118   7788.0\n",
      "120   8358.0\n",
      "123   8238.0\n",
      "125   9538.0\n",
      "128   9989.0\n",
      "130  11549.0\n",
      "134   9988.0\n",
      "136  11248.0\n",
      "137  16558.0\n",
      "138  15998.0\n",
      "147   9980.0\n"
     ]
    }
   ],
   "source": [
    "hatchback = Automobile_df.loc[Automobile_df['body-style'] == 'hatchback' , ['price']]\n",
    "print (hatchback)"
   ]
  },
  {
   "cell_type": "code",
   "execution_count": 41,
   "metadata": {},
   "outputs": [
    {
     "name": "stdout",
     "output_type": "stream",
     "text": [
      "       price\n",
      "46   28176.0\n",
      "68    8249.0\n",
      "126   8449.0\n",
      "127   9639.0\n",
      "129  11199.0\n"
     ]
    }
   ],
   "source": [
    "hardtop = Automobile_df.loc[Automobile_df['body-style'] == 'hardtop' , ['price']]\n",
    "print (hardtop)"
   ]
  },
  {
   "cell_type": "code",
   "execution_count": 42,
   "metadata": {},
   "outputs": [
    {
     "data": {
      "text/plain": [
       "array(['sedan', 'hatchback', 'wagon', 'hardtop', 'convertible'], dtype=object)"
      ]
     },
     "execution_count": 42,
     "metadata": {},
     "output_type": "execute_result"
    }
   ],
   "source": [
    "Automobile_df['body-style'].unique()"
   ]
  },
  {
   "cell_type": "code",
   "execution_count": 43,
   "metadata": {},
   "outputs": [
    {
     "name": "stdout",
     "output_type": "stream",
     "text": [
      "       price\n",
      "48   35056.0\n",
      "131  17669.0\n"
     ]
    }
   ],
   "source": [
    "convertible = Automobile_df.loc[Automobile_df['body-style'] == 'convertible' , ['price']]\n",
    "print (convertible)"
   ]
  },
  {
   "cell_type": "code",
   "execution_count": 44,
   "metadata": {},
   "outputs": [
    {
     "name": "stdout",
     "output_type": "stream",
     "text": [
      "F statistic = [ 6.95054325]\n",
      "P-value = [  3.60028411e-05]\n"
     ]
    }
   ],
   "source": [
    "import scipy.stats as ss\n",
    "f_statistic, p_value = ss.f_oneway(convertible, hardtop, hatchback, sedan, wagon)\n",
    "print('F statistic = ' + str(f_statistic))\n",
    "print('P-value = ' + str(p_value))"
   ]
  },
  {
   "cell_type": "markdown",
   "metadata": {},
   "source": [
    "The F-Statistic is fairly large and the p-value is small. We can reject the null hypothesis that the 5 variables have the same mean, as the probability of the differences arrising from random chance is quite low. \n",
    "\n"
   ]
  },
  {
   "cell_type": "markdown",
   "metadata": {},
   "source": [
    "#### Tukey's HSD test "
   ]
  },
  {
   "cell_type": "code",
   "execution_count": 45,
   "metadata": {},
   "outputs": [
    {
     "name": "stdout",
     "output_type": "stream",
     "text": [
      "      body-style    price\n",
      "0          sedan  13950.0\n",
      "1          sedan  17450.0\n",
      "2          sedan  17710.0\n",
      "3          sedan  23875.0\n",
      "4          sedan  16430.0\n",
      "5          sedan  16925.0\n",
      "6          sedan  20970.0\n",
      "7          sedan  21105.0\n",
      "8      hatchback   5151.0\n",
      "9      hatchback   6295.0\n",
      "10         sedan   6575.0\n",
      "11     hatchback   5572.0\n",
      "12     hatchback   6377.0\n",
      "13     hatchback   7957.0\n",
      "14     hatchback   6229.0\n",
      "15         sedan   6692.0\n",
      "16         sedan   7609.0\n",
      "17         wagon   8921.0\n",
      "18     hatchback  12964.0\n",
      "19     hatchback   6479.0\n",
      "20     hatchback   6855.0\n",
      "21     hatchback   5399.0\n",
      "22     hatchback   6529.0\n",
      "23     hatchback   7129.0\n",
      "24         sedan   7295.0\n",
      "25         wagon   7295.0\n",
      "26     hatchback   7895.0\n",
      "27     hatchback   9095.0\n",
      "28         sedan   8845.0\n",
      "29         sedan  10295.0\n",
      "..           ...      ...\n",
      "129      hardtop  11199.0\n",
      "130    hatchback  11549.0\n",
      "131  convertible  17669.0\n",
      "132        sedan   8948.0\n",
      "133        sedan  10698.0\n",
      "134    hatchback   9988.0\n",
      "135        sedan  10898.0\n",
      "136    hatchback  11248.0\n",
      "137    hatchback  16558.0\n",
      "138    hatchback  15998.0\n",
      "139        sedan  15690.0\n",
      "140        sedan   7775.0\n",
      "141        sedan   7975.0\n",
      "142        sedan   7995.0\n",
      "143        sedan   8195.0\n",
      "144        sedan   8495.0\n",
      "145        sedan   9495.0\n",
      "146        sedan   9995.0\n",
      "147    hatchback   9980.0\n",
      "148        sedan  12940.0\n",
      "149        wagon  13415.0\n",
      "150        sedan  15985.0\n",
      "151        wagon  16515.0\n",
      "152        sedan  18420.0\n",
      "153        wagon  18950.0\n",
      "154        sedan  16845.0\n",
      "155        sedan  19045.0\n",
      "156        sedan  21485.0\n",
      "157        sedan  22470.0\n",
      "158        sedan  22625.0\n",
      "\n",
      "[159 rows x 2 columns]\n"
     ]
    }
   ],
   "source": [
    "data =  Automobile_df[['body-style','price']]\n",
    "print (data)"
   ]
  },
  {
   "cell_type": "code",
   "execution_count": 46,
   "metadata": {},
   "outputs": [
    {
     "data": {
      "text/plain": [
       "<matplotlib.axes._subplots.AxesSubplot at 0x1b9b14e6390>"
      ]
     },
     "execution_count": 46,
     "metadata": {},
     "output_type": "execute_result"
    },
    {
     "data": {
      "image/png": "[encoded data removed]",
      "text/plain": [
       "<matplotlib.figure.Figure at 0x1b9b169a978>"
      ]
     },
     "metadata": {},
     "output_type": "display_data"
    }
   ],
   "source": [
    "%matplotlib inline\n",
    "Automobile_df.loc[:, ['body-style', 'counts']].groupby(['body-style']).agg('count').plot.bar()"
   ]
  },
  {
   "cell_type": "code",
   "execution_count": 47,
   "metadata": {},
   "outputs": [
    {
     "name": "stdout",
     "output_type": "stream",
     "text": [
      "       Multiple Comparison of Means - Tukey HSD,FWER=0.05      \n",
      "===============================================================\n",
      "   group1     group2    meandiff     lower      upper    reject\n",
      "---------------------------------------------------------------\n",
      "convertible  hardtop    -13220.1  -25875.4748 -564.7252   True \n",
      "convertible hatchback -17142.3393  -28027.403 -6257.2756  True \n",
      "convertible   sedan   -13803.8797 -24634.1665 -2973.593   True \n",
      "convertible   wagon   -15011.0882 -26318.5033 -3703.6732  True \n",
      "  hardtop   hatchback  -3922.2393 -10982.3562 3137.8776  False \n",
      "  hardtop     sedan    -583.7797   -7559.1471 6391.5876  False \n",
      "  hardtop     wagon    -1790.9882  -9486.3292 5904.3527  False \n",
      " hatchback    sedan    3338.4595    696.1401   5980.779   True \n",
      " hatchback    wagon    2131.2511   -2057.3495 6319.8516  False \n",
      "   sedan      wagon    -1207.2085  -5251.3245 2836.9075  False \n",
      "---------------------------------------------------------------\n",
      "['convertible' 'hardtop' 'hatchback' 'sedan' 'wagon']\n"
     ]
    }
   ],
   "source": [
    "from statsmodels.stats.multicomp import pairwise_tukeyhsd\n",
    "from statsmodels.stats.multicomp import MultiComparison\n",
    "\n",
    "mc = MultiComparison( data['price'], data['body-style'],)\n",
    "result = mc.tukeyhsd()\n",
    " \n",
    "print(result)\n",
    "print(mc.groupsunique)\n"
   ]
  },
  {
   "cell_type": "code",
   "execution_count": 48,
   "metadata": {},
   "outputs": [
    {
     "data": {
      "text/html": [
       "<table class=\"simpletable\">\n",
       "<caption>Multiple Comparison of Means - Tukey HSD,FWER=0.05</caption>\n",
       "<tr>\n",
       "    <th>group1</th>     <th>group2</th>    <th>meandiff</th>      <th>lower</th>       <th>upper</th>   <th>reject</th>\n",
       "</tr>\n",
       "<tr>\n",
       "  <td>convertible</td>  <td>hardtop</td>   <td>-13220.1</td>   <td>-25875.4748</td>  <td>-564.7252</td>  <td>True</td> \n",
       "</tr>\n",
       "<tr>\n",
       "  <td>convertible</td> <td>hatchback</td> <td>-17142.3393</td> <td>-28027.403</td>  <td>-6257.2756</td>  <td>True</td> \n",
       "</tr>\n",
       "<tr>\n",
       "  <td>convertible</td>   <td>sedan</td>   <td>-13803.8797</td> <td>-24634.1665</td>  <td>-2973.593</td>  <td>True</td> \n",
       "</tr>\n",
       "<tr>\n",
       "  <td>convertible</td>   <td>wagon</td>   <td>-15011.0882</td> <td>-26318.5033</td> <td>-3703.6732</td>  <td>True</td> \n",
       "</tr>\n",
       "<tr>\n",
       "    <td>hardtop</td>   <td>hatchback</td> <td>-3922.2393</td>  <td>-10982.3562</td>  <td>3137.8776</td>  <td>False</td>\n",
       "</tr>\n",
       "<tr>\n",
       "    <td>hardtop</td>     <td>sedan</td>    <td>-583.7797</td>  <td>-7559.1471</td>   <td>6391.5876</td>  <td>False</td>\n",
       "</tr>\n",
       "<tr>\n",
       "    <td>hardtop</td>     <td>wagon</td>   <td>-1790.9882</td>  <td>-9486.3292</td>   <td>5904.3527</td>  <td>False</td>\n",
       "</tr>\n",
       "<tr>\n",
       "   <td>hatchback</td>    <td>sedan</td>    <td>3338.4595</td>   <td>696.1401</td>    <td>5980.779</td>   <td>True</td> \n",
       "</tr>\n",
       "<tr>\n",
       "   <td>hatchback</td>    <td>wagon</td>    <td>2131.2511</td>  <td>-2057.3495</td>   <td>6319.8516</td>  <td>False</td>\n",
       "</tr>\n",
       "<tr>\n",
       "     <td>sedan</td>      <td>wagon</td>   <td>-1207.2085</td>  <td>-5251.3245</td>   <td>2836.9075</td>  <td>False</td>\n",
       "</tr>\n",
       "</table>"
      ],
      "text/plain": [
       "<class 'statsmodels.iolib.table.SimpleTable'>"
      ]
     },
     "execution_count": 48,
     "metadata": {},
     "output_type": "execute_result"
    },
    {
     "data": {
      "image/png": "[encoded data removed]",
      "text/plain": [
       "<matplotlib.figure.Figure at 0x1b9b0cf93c8>"
      ]
     },
     "metadata": {},
     "output_type": "display_data"
    }
   ],
   "source": [
    "from statsmodels.stats.multicomp import pairwise_tukeyhsd\n",
    "\n",
    "tukey = pairwise_tukeyhsd(endog=data['price'],     # Data\n",
    "                          groups=data['body-style'],   # Groups\n",
    "                          alpha=0.05)          # Significance level\n",
    "\n",
    "tukey.plot_simultaneous()    # Plot group confidence intervals\n",
    "plt.vlines(x=18000,ymin=-0.5,ymax=4.5, color=\"red\")\n",
    "\n",
    "tukey.summary()   "
   ]
  },
  {
   "cell_type": "markdown",
   "metadata": {},
   "source": [
    "The output of the Tukey test shows the average difference, a confidence interval as well as whether you should reject the null hypothesis for each pair of groups at the given significance level. \n",
    "\n",
    "In this case, the results above reveal that convertible  significantly differs from the other four  body-styles. The last column tells us that there is significant evidence to reject the null hypothesis for 5 groups."
   ]
  },
  {
   "cell_type": "code",
   "execution_count": 49,
   "metadata": {},
   "outputs": [
    {
     "data": {
      "text/plain": [
       "<matplotlib.axes._subplots.AxesSubplot at 0x1b9b096ac18>"
      ]
     },
     "execution_count": 49,
     "metadata": {},
     "output_type": "execute_result"
    },
    {
     "data": {
      "image/png": "[encoded data removed]",
      "text/plain": [
       "<matplotlib.figure.Figure at 0x1b9b0ceb828>"
      ]
     },
     "metadata": {},
     "output_type": "display_data"
    }
   ],
   "source": [
    "Automobile_df[['counts', 'make']].groupby(['make']).agg('count').plot(kind = 'bar')"
   ]
  },
  {
   "cell_type": "code",
   "execution_count": 50,
   "metadata": {},
   "outputs": [
    {
     "name": "stderr",
     "output_type": "stream",
     "text": [
      "C:\\Users\\Gandhi\\Anaconda3\\lib\\site-packages\\numpy\\core\\fromnumeric.py:57: FutureWarning:\n",
      "\n",
      "reshape is deprecated and will raise in a subsequent release. Please use .values.reshape(...) instead\n",
      "\n"
     ]
    },
    {
     "data": {
      "text/plain": [
       "(0.0, 50000.0)"
      ]
     },
     "execution_count": 50,
     "metadata": {},
     "output_type": "execute_result"
    },
    {
     "data": {
      "image/png": "[encoded data removed]",
      "text/plain": [
       "<matplotlib.figure.Figure at 0x1b9b16d5b00>"
      ]
     },
     "metadata": {},
     "output_type": "display_data"
    }
   ],
   "source": [
    "fig = plt.figure(figsize=(15, 8)) # define plot area\n",
    "ax = fig.gca() # define axis \n",
    "Automobile_df.loc[:,['price', 'make']].boxplot(by = 'make', ax = ax)\n",
    "ax.set_title('Box plot of price') # Give the plot a main title\n",
    "ax.set_ylabel('Auto Price')# Set text for y axis\n",
    "ax.set_ylim(0.0, 50000.0) # Set the limits of the y axis"
   ]
  },
  {
   "cell_type": "code",
   "execution_count": 51,
   "metadata": {},
   "outputs": [
    {
     "data": {
      "text/html": [
       "<table class=\"simpletable\">\n",
       "<caption>Multiple Comparison of Means - Tukey HSD,FWER=0.05</caption>\n",
       "<tr>\n",
       "     <th>group1</th>        <th>group2</th>      <th>meandiff</th>      <th>lower</th>       <th>upper</th>    <th>reject</th>\n",
       "</tr>\n",
       "<tr>\n",
       "      <td>audi</td>           <td>bmw</td>        <td>611.25</td>    <td>-6812.0345</td>   <td>8034.5345</td>   <td>False</td>\n",
       "</tr>\n",
       "<tr>\n",
       "      <td>audi</td>        <td>chevrolet</td>    <td>-12239.25</td>  <td>-20257.3136</td> <td>-4221.1864</td>   <td>True</td> \n",
       "</tr>\n",
       "<tr>\n",
       "      <td>audi</td>          <td>dodge</td>     <td>-10456.125</td>  <td>-16884.8779</td> <td>-4027.3721</td>   <td>True</td> \n",
       "</tr>\n",
       "<tr>\n",
       "      <td>audi</td>          <td>honda</td>     <td>-10061.5577</td> <td>-16064.0815</td> <td>-4059.0339</td>   <td>True</td> \n",
       "</tr>\n",
       "<tr>\n",
       "      <td>audi</td>         <td>jaguar</td>      <td>14003.75</td>    <td>2266.5067</td>  <td>25740.9933</td>   <td>True</td> \n",
       "</tr>\n",
       "<tr>\n",
       "      <td>audi</td>          <td>mazda</td>      <td>-9166.25</td>   <td>-15295.8254</td> <td>-3036.6746</td>   <td>True</td> \n",
       "</tr>\n",
       "<tr>\n",
       "      <td>audi</td>      <td>mercedes-benz</td>  <td>11480.15</td>    <td>4437.804</td>    <td>18522.496</td>   <td>True</td> \n",
       "</tr>\n",
       "<tr>\n",
       "      <td>audi</td>       <td>mitsubishi</td>    <td>-10433.25</td>  <td>-16644.0154</td> <td>-4222.4846</td>   <td>True</td> \n",
       "</tr>\n",
       "<tr>\n",
       "      <td>audi</td>         <td>nissan</td>     <td>-7830.5833</td>  <td>-13633.6317</td> <td>-2027.5349</td>   <td>True</td> \n",
       "</tr>\n",
       "<tr>\n",
       "      <td>audi</td>         <td>peugot</td>     <td>-2487.6786</td>   <td>-9067.717</td>   <td>4092.3598</td>   <td>False</td>\n",
       "</tr>\n",
       "<tr>\n",
       "      <td>audi</td>        <td>plymouth</td>    <td>-11082.9167</td> <td>-17859.4172</td> <td>-4306.4161</td>   <td>True</td> \n",
       "</tr>\n",
       "<tr>\n",
       "      <td>audi</td>         <td>porsche</td>      <td>3771.75</td>   <td>-7965.4933</td>  <td>15508.9933</td>   <td>False</td>\n",
       "</tr>\n",
       "<tr>\n",
       "      <td>audi</td>          <td>saab</td>      <td>-3022.9167</td>  <td>-9799.4172</td>   <td>3753.5839</td>   <td>False</td>\n",
       "</tr>\n",
       "<tr>\n",
       "      <td>audi</td>         <td>subaru</td>       <td>-9705.0</td>   <td>-15766.0864</td> <td>-3643.9136</td>   <td>True</td> \n",
       "</tr>\n",
       "<tr>\n",
       "      <td>audi</td>         <td>toyota</td>     <td>-8549.6048</td>  <td>-14127.0368</td> <td>-2972.1729</td>   <td>True</td> \n",
       "</tr>\n",
       "<tr>\n",
       "      <td>audi</td>       <td>volkswagen</td>    <td>-9508.125</td>  <td>-15936.8779</td> <td>-3079.3721</td>   <td>True</td> \n",
       "</tr>\n",
       "<tr>\n",
       "      <td>audi</td>          <td>volvo</td>      <td>-183.0682</td>  <td>-6312.6436</td>   <td>5946.5072</td>   <td>False</td>\n",
       "</tr>\n",
       "<tr>\n",
       "       <td>bmw</td>        <td>chevrolet</td>    <td>-12850.5</td>   <td>-20868.5636</td> <td>-4832.4364</td>   <td>True</td> \n",
       "</tr>\n",
       "<tr>\n",
       "       <td>bmw</td>          <td>dodge</td>     <td>-11067.375</td>  <td>-17496.1279</td> <td>-4638.6221</td>   <td>True</td> \n",
       "</tr>\n",
       "<tr>\n",
       "       <td>bmw</td>          <td>honda</td>     <td>-10672.8077</td> <td>-16675.3315</td> <td>-4670.2839</td>   <td>True</td> \n",
       "</tr>\n",
       "<tr>\n",
       "       <td>bmw</td>         <td>jaguar</td>       <td>13392.5</td>    <td>1655.2567</td>  <td>25129.7433</td>   <td>True</td> \n",
       "</tr>\n",
       "<tr>\n",
       "       <td>bmw</td>          <td>mazda</td>       <td>-9777.5</td>   <td>-15907.0754</td> <td>-3647.9246</td>   <td>True</td> \n",
       "</tr>\n",
       "<tr>\n",
       "       <td>bmw</td>      <td>mercedes-benz</td>   <td>10868.9</td>    <td>3826.554</td>    <td>17911.246</td>   <td>True</td> \n",
       "</tr>\n",
       "<tr>\n",
       "       <td>bmw</td>       <td>mitsubishi</td>    <td>-11044.5</td>   <td>-17255.2654</td> <td>-4833.7346</td>   <td>True</td> \n",
       "</tr>\n",
       "<tr>\n",
       "       <td>bmw</td>         <td>nissan</td>     <td>-8441.8333</td>  <td>-14244.8817</td> <td>-2638.7849</td>   <td>True</td> \n",
       "</tr>\n",
       "<tr>\n",
       "       <td>bmw</td>         <td>peugot</td>     <td>-3098.9286</td>   <td>-9678.967</td>   <td>3481.1098</td>   <td>False</td>\n",
       "</tr>\n",
       "<tr>\n",
       "       <td>bmw</td>        <td>plymouth</td>    <td>-11694.1667</td> <td>-18470.6672</td> <td>-4917.6661</td>   <td>True</td> \n",
       "</tr>\n",
       "<tr>\n",
       "       <td>bmw</td>         <td>porsche</td>      <td>3160.5</td>    <td>-8576.7433</td>  <td>14897.7433</td>   <td>False</td>\n",
       "</tr>\n",
       "<tr>\n",
       "       <td>bmw</td>          <td>saab</td>      <td>-3634.1667</td>  <td>-10410.6672</td>  <td>3142.3339</td>   <td>False</td>\n",
       "</tr>\n",
       "<tr>\n",
       "       <td>bmw</td>         <td>subaru</td>      <td>-10316.25</td>  <td>-16377.3364</td> <td>-4255.1636</td>   <td>True</td> \n",
       "</tr>\n",
       "<tr>\n",
       "       <td>bmw</td>         <td>toyota</td>     <td>-9160.8548</td>  <td>-14738.2868</td> <td>-3583.4229</td>   <td>True</td> \n",
       "</tr>\n",
       "<tr>\n",
       "       <td>bmw</td>       <td>volkswagen</td>   <td>-10119.375</td>  <td>-16548.1279</td> <td>-3690.6221</td>   <td>True</td> \n",
       "</tr>\n",
       "<tr>\n",
       "       <td>bmw</td>          <td>volvo</td>      <td>-794.3182</td>  <td>-6923.8936</td>   <td>5335.2572</td>   <td>False</td>\n",
       "</tr>\n",
       "<tr>\n",
       "    <td>chevrolet</td>       <td>dodge</td>      <td>1783.125</td>   <td>-5324.1288</td>   <td>8890.3788</td>   <td>False</td>\n",
       "</tr>\n",
       "<tr>\n",
       "    <td>chevrolet</td>       <td>honda</td>      <td>2177.6923</td>  <td>-4546.4793</td>   <td>8901.8639</td>   <td>False</td>\n",
       "</tr>\n",
       "<tr>\n",
       "    <td>chevrolet</td>      <td>jaguar</td>       <td>26243.0</td>   <td>14120.8272</td>  <td>38365.1728</td>   <td>True</td> \n",
       "</tr>\n",
       "<tr>\n",
       "    <td>chevrolet</td>       <td>mazda</td>       <td>3073.0</td>    <td>-3764.8276</td>   <td>9910.8276</td>   <td>False</td>\n",
       "</tr>\n",
       "<tr>\n",
       "    <td>chevrolet</td>   <td>mercedes-benz</td>   <td>23719.4</td>   <td>16052.6648</td>  <td>31386.1352</td>   <td>True</td> \n",
       "</tr>\n",
       "<tr>\n",
       "    <td>chevrolet</td>    <td>mitsubishi</td>     <td>1806.0</td>    <td>-5104.7017</td>   <td>8716.7017</td>   <td>False</td>\n",
       "</tr>\n",
       "<tr>\n",
       "    <td>chevrolet</td>      <td>nissan</td>      <td>4408.6667</td>  <td>-2138.0549</td>  <td>10955.3882</td>   <td>False</td>\n",
       "</tr>\n",
       "<tr>\n",
       "    <td>chevrolet</td>      <td>peugot</td>      <td>9751.5714</td>   <td>2507.1876</td>  <td>16995.9553</td>   <td>True</td> \n",
       "</tr>\n",
       "<tr>\n",
       "    <td>chevrolet</td>     <td>plymouth</td>     <td>1156.3333</td>  <td>-6266.9511</td>   <td>8579.6178</td>   <td>False</td>\n",
       "</tr>\n",
       "<tr>\n",
       "    <td>chevrolet</td>      <td>porsche</td>      <td>16011.0</td>    <td>3888.8272</td>  <td>28133.1728</td>   <td>True</td> \n",
       "</tr>\n",
       "<tr>\n",
       "    <td>chevrolet</td>       <td>saab</td>       <td>9216.3333</td>   <td>1793.0489</td>  <td>16639.6178</td>   <td>True</td> \n",
       "</tr>\n",
       "<tr>\n",
       "    <td>chevrolet</td>      <td>subaru</td>       <td>2534.25</td>   <td>-4242.2506</td>   <td>9310.7506</td>   <td>False</td>\n",
       "</tr>\n",
       "<tr>\n",
       "    <td>chevrolet</td>      <td>toyota</td>      <td>3689.6452</td>   <td>-2657.948</td>  <td>10037.2383</td>   <td>False</td>\n",
       "</tr>\n",
       "<tr>\n",
       "    <td>chevrolet</td>    <td>volkswagen</td>    <td>2731.125</td>   <td>-4376.1288</td>   <td>9838.3788</td>   <td>False</td>\n",
       "</tr>\n",
       "<tr>\n",
       "    <td>chevrolet</td>       <td>volvo</td>     <td>12056.1818</td>   <td>5218.3542</td>  <td>18894.0094</td>   <td>True</td> \n",
       "</tr>\n",
       "<tr>\n",
       "      <td>dodge</td>         <td>honda</td>      <td>394.5673</td>   <td>-4322.8476</td>   <td>5111.9823</td>   <td>False</td>\n",
       "</tr>\n",
       "<tr>\n",
       "      <td>dodge</td>        <td>jaguar</td>      <td>24459.875</td>  <td>13324.9483</td>  <td>35594.8017</td>   <td>True</td> \n",
       "</tr>\n",
       "<tr>\n",
       "      <td>dodge</td>         <td>mazda</td>      <td>1289.875</td>   <td>-3588.1786</td>   <td>6167.9286</td>   <td>False</td>\n",
       "</tr>\n",
       "<tr>\n",
       "      <td>dodge</td>     <td>mercedes-benz</td>  <td>21936.275</td>  <td>15951.4317</td>  <td>27921.1183</td>   <td>True</td> \n",
       "</tr>\n",
       "<tr>\n",
       "      <td>dodge</td>      <td>mitsubishi</td>     <td>22.875</td>    <td>-4956.8156</td>   <td>5002.5656</td>   <td>False</td>\n",
       "</tr>\n",
       "<tr>\n",
       "      <td>dodge</td>        <td>nissan</td>      <td>2625.5417</td>  <td>-1835.2971</td>   <td>7086.3805</td>   <td>False</td>\n",
       "</tr>\n",
       "<tr>\n",
       "      <td>dodge</td>        <td>peugot</td>      <td>7968.4464</td>   <td>2535.1585</td>  <td>13401.7343</td>   <td>True</td> \n",
       "</tr>\n",
       "<tr>\n",
       "      <td>dodge</td>       <td>plymouth</td>     <td>-626.7917</td>  <td>-6296.4188</td>   <td>5042.8355</td>   <td>False</td>\n",
       "</tr>\n",
       "<tr>\n",
       "      <td>dodge</td>        <td>porsche</td>     <td>14227.875</td>   <td>3092.9483</td>  <td>25362.8017</td>   <td>True</td> \n",
       "</tr>\n",
       "<tr>\n",
       "      <td>dodge</td>         <td>saab</td>       <td>7433.2083</td>   <td>1763.5812</td>  <td>13102.8355</td>   <td>True</td> \n",
       "</tr>\n",
       "<tr>\n",
       "      <td>dodge</td>        <td>subaru</td>       <td>751.125</td>   <td>-4040.5845</td>   <td>5542.8345</td>   <td>False</td>\n",
       "</tr>\n",
       "<tr>\n",
       "      <td>dodge</td>        <td>toyota</td>      <td>1906.5202</td>  <td>-2256.5867</td>   <td>6069.6271</td>   <td>False</td>\n",
       "</tr>\n",
       "<tr>\n",
       "      <td>dodge</td>      <td>volkswagen</td>      <td>948.0</td>    <td>-4301.0548</td>   <td>6197.0548</td>   <td>False</td>\n",
       "</tr>\n",
       "<tr>\n",
       "      <td>dodge</td>         <td>volvo</td>     <td>10273.0568</td>   <td>5395.0032</td>  <td>15151.1104</td>   <td>True</td> \n",
       "</tr>\n",
       "<tr>\n",
       "      <td>honda</td>        <td>jaguar</td>     <td>24065.3077</td>  <td>13170.9045</td>  <td>34959.7108</td>   <td>True</td> \n",
       "</tr>\n",
       "<tr>\n",
       "      <td>honda</td>         <td>mazda</td>      <td>895.3077</td>   <td>-3405.4869</td>   <td>5196.1023</td>   <td>False</td>\n",
       "</tr>\n",
       "<tr>\n",
       "      <td>honda</td>     <td>mercedes-benz</td> <td>21541.7077</td>   <td>16017.237</td>  <td>27066.1784</td>   <td>True</td> \n",
       "</tr>\n",
       "<tr>\n",
       "      <td>honda</td>      <td>mitsubishi</td>    <td>-371.6923</td>  <td>-4787.4308</td>   <td>4044.0462</td>   <td>False</td>\n",
       "</tr>\n",
       "<tr>\n",
       "      <td>honda</td>        <td>nissan</td>      <td>2230.9744</td>  <td>-1590.0871</td>   <td>6052.0358</td>   <td>False</td>\n",
       "</tr>\n",
       "<tr>\n",
       "      <td>honda</td>        <td>peugot</td>      <td>7573.8791</td>   <td>2652.2894</td>  <td>12495.4688</td>   <td>True</td> \n",
       "</tr>\n",
       "<tr>\n",
       "      <td>honda</td>       <td>plymouth</td>     <td>-1021.359</td>  <td>-6202.6812</td>   <td>4159.9632</td>   <td>False</td>\n",
       "</tr>\n",
       "<tr>\n",
       "      <td>honda</td>        <td>porsche</td>    <td>13833.3077</td>   <td>2938.9045</td>  <td>24727.7108</td>   <td>True</td> \n",
       "</tr>\n",
       "<tr>\n",
       "      <td>honda</td>         <td>saab</td>       <td>7038.641</td>    <td>1857.3188</td>  <td>12219.9632</td>   <td>True</td> \n",
       "</tr>\n",
       "<tr>\n",
       "      <td>honda</td>        <td>subaru</td>      <td>356.5577</td>   <td>-3846.0496</td>   <td>4559.1649</td>   <td>False</td>\n",
       "</tr>\n",
       "<tr>\n",
       "      <td>honda</td>        <td>toyota</td>      <td>1511.9529</td>  <td>-1956.8923</td>   <td>4980.798</td>    <td>False</td>\n",
       "</tr>\n",
       "<tr>\n",
       "      <td>honda</td>      <td>volkswagen</td>    <td>553.4327</td>   <td>-4163.9823</td>   <td>5270.8476</td>   <td>False</td>\n",
       "</tr>\n",
       "<tr>\n",
       "      <td>honda</td>         <td>volvo</td>      <td>9878.4895</td>   <td>5577.6949</td>  <td>14179.2841</td>   <td>True</td> \n",
       "</tr>\n",
       "<tr>\n",
       "     <td>jaguar</td>         <td>mazda</td>      <td>-23170.0</td>   <td>-34134.9178</td> <td>-12205.0822</td>  <td>True</td> \n",
       "</tr>\n",
       "<tr>\n",
       "     <td>jaguar</td>     <td>mercedes-benz</td>   <td>-2523.6</td>   <td>-14023.7028</td>  <td>8976.5028</td>   <td>False</td>\n",
       "</tr>\n",
       "<tr>\n",
       "     <td>jaguar</td>      <td>mitsubishi</td>    <td>-24437.0</td>   <td>-35447.5102</td> <td>-13426.4898</td>  <td>True</td> \n",
       "</tr>\n",
       "<tr>\n",
       "     <td>jaguar</td>        <td>nissan</td>     <td>-21834.3333</td> <td>-32620.1156</td> <td>-11048.5511</td>  <td>True</td> \n",
       "</tr>\n",
       "<tr>\n",
       "     <td>jaguar</td>        <td>peugot</td>     <td>-16491.4286</td> <td>-27714.3798</td> <td>-5268.4774</td>   <td>True</td> \n",
       "</tr>\n",
       "<tr>\n",
       "     <td>jaguar</td>       <td>plymouth</td>    <td>-25086.6667</td> <td>-36425.921</td>  <td>-13747.4124</td>  <td>True</td> \n",
       "</tr>\n",
       "<tr>\n",
       "     <td>jaguar</td>        <td>porsche</td>     <td>-10232.0</td>   <td>-25078.5689</td>  <td>4614.5689</td>   <td>False</td>\n",
       "</tr>\n",
       "<tr>\n",
       "     <td>jaguar</td>         <td>saab</td>      <td>-17026.6667</td> <td>-28365.921</td>  <td>-5687.4124</td>   <td>True</td> \n",
       "</tr>\n",
       "<tr>\n",
       "     <td>jaguar</td>        <td>subaru</td>      <td>-23708.75</td>  <td>-34635.5289</td> <td>-12781.9711</td>  <td>True</td> \n",
       "</tr>\n",
       "<tr>\n",
       "     <td>jaguar</td>        <td>toyota</td>     <td>-22553.3548</td> <td>-33219.4448</td> <td>-11887.2649</td>  <td>True</td> \n",
       "</tr>\n",
       "<tr>\n",
       "     <td>jaguar</td>      <td>volkswagen</td>   <td>-23511.875</td>  <td>-34646.8017</td> <td>-12376.9483</td>  <td>True</td> \n",
       "</tr>\n",
       "<tr>\n",
       "     <td>jaguar</td>         <td>volvo</td>     <td>-14186.8182</td> <td>-25151.736</td>  <td>-3221.9004</td>   <td>True</td> \n",
       "</tr>\n",
       "<tr>\n",
       "      <td>mazda</td>     <td>mercedes-benz</td>   <td>20646.4</td>   <td>14984.1408</td>  <td>26308.6592</td>   <td>True</td> \n",
       "</tr>\n",
       "<tr>\n",
       "      <td>mazda</td>      <td>mitsubishi</td>     <td>-1267.0</td>   <td>-5853.9542</td>   <td>3319.9542</td>   <td>False</td>\n",
       "</tr>\n",
       "<tr>\n",
       "      <td>mazda</td>        <td>nissan</td>      <td>1335.6667</td>  <td>-2682.0333</td>   <td>5353.3667</td>   <td>False</td>\n",
       "</tr>\n",
       "<tr>\n",
       "      <td>mazda</td>        <td>peugot</td>      <td>6678.5714</td>   <td>1602.8008</td>  <td>11754.3421</td>   <td>True</td> \n",
       "</tr>\n",
       "<tr>\n",
       "      <td>mazda</td>       <td>plymouth</td>    <td>-1916.6667</td>   <td>-7244.659</td>   <td>3411.3257</td>   <td>False</td>\n",
       "</tr>\n",
       "<tr>\n",
       "      <td>mazda</td>        <td>porsche</td>      <td>12938.0</td>    <td>1973.0822</td>  <td>23902.9178</td>   <td>True</td> \n",
       "</tr>\n",
       "<tr>\n",
       "      <td>mazda</td>         <td>saab</td>       <td>6143.3333</td>    <td>815.341</td>   <td>11471.3257</td>   <td>True</td> \n",
       "</tr>\n",
       "<tr>\n",
       "      <td>mazda</td>        <td>subaru</td>       <td>-538.75</td>   <td>-4920.9082</td>   <td>3843.4082</td>   <td>False</td>\n",
       "</tr>\n",
       "<tr>\n",
       "      <td>mazda</td>        <td>toyota</td>      <td>616.6452</td>   <td>-3067.6851</td>   <td>4300.9755</td>   <td>False</td>\n",
       "</tr>\n",
       "<tr>\n",
       "      <td>mazda</td>      <td>volkswagen</td>    <td>-341.875</td>   <td>-5219.9286</td>   <td>4536.1786</td>   <td>False</td>\n",
       "</tr>\n",
       "<tr>\n",
       "      <td>mazda</td>         <td>volvo</td>      <td>8983.1818</td>   <td>4506.7729</td>  <td>13459.5908</td>   <td>True</td> \n",
       "</tr>\n",
       "<tr>\n",
       "  <td>mercedes-benz</td>  <td>mitsubishi</td>    <td>-21913.4</td>   <td>-27663.4514</td> <td>-16163.3486</td>  <td>True</td> \n",
       "</tr>\n",
       "<tr>\n",
       "  <td>mercedes-benz</td>    <td>nissan</td>     <td>-19310.7333</td> <td>-24617.7905</td> <td>-14003.6762</td>  <td>True</td> \n",
       "</tr>\n",
       "<tr>\n",
       "  <td>mercedes-benz</td>    <td>peugot</td>     <td>-13967.8286</td> <td>-20114.8921</td>  <td>-7820.765</td>   <td>True</td> \n",
       "</tr>\n",
       "<tr>\n",
       "  <td>mercedes-benz</td>   <td>plymouth</td>    <td>-22563.0667</td> <td>-28919.9877</td> <td>-16206.1456</td>  <td>True</td> \n",
       "</tr>\n",
       "<tr>\n",
       "  <td>mercedes-benz</td>    <td>porsche</td>      <td>-7708.4</td>   <td>-19208.5028</td>  <td>3791.7028</td>   <td>False</td>\n",
       "</tr>\n",
       "<tr>\n",
       "  <td>mercedes-benz</td>     <td>saab</td>      <td>-14503.0667</td> <td>-20859.9877</td> <td>-8146.1456</td>   <td>True</td> \n",
       "</tr>\n",
       "<tr>\n",
       "  <td>mercedes-benz</td>    <td>subaru</td>      <td>-21185.15</td>  <td>-26773.1955</td> <td>-15597.1045</td>  <td>True</td> \n",
       "</tr>\n",
       "<tr>\n",
       "  <td>mercedes-benz</td>    <td>toyota</td>     <td>-20029.7548</td> <td>-25089.1255</td> <td>-14970.3841</td>  <td>True</td> \n",
       "</tr>\n",
       "<tr>\n",
       "  <td>mercedes-benz</td>  <td>volkswagen</td>   <td>-20988.275</td>  <td>-26973.1183</td> <td>-15003.4317</td>  <td>True</td> \n",
       "</tr>\n",
       "<tr>\n",
       "  <td>mercedes-benz</td>     <td>volvo</td>     <td>-11663.2182</td> <td>-17325.4774</td>  <td>-6000.959</td>   <td>True</td> \n",
       "</tr>\n",
       "<tr>\n",
       "   <td>mitsubishi</td>      <td>nissan</td>      <td>2602.6667</td>  <td>-1537.8436</td>   <td>6743.1769</td>   <td>False</td>\n",
       "</tr>\n",
       "<tr>\n",
       "   <td>mitsubishi</td>      <td>peugot</td>      <td>7945.5714</td>   <td>2772.0466</td>  <td>13119.0963</td>   <td>True</td> \n",
       "</tr>\n",
       "<tr>\n",
       "   <td>mitsubishi</td>     <td>plymouth</td>     <td>-649.6667</td>  <td>-6070.8671</td>   <td>4771.5338</td>   <td>False</td>\n",
       "</tr>\n",
       "<tr>\n",
       "   <td>mitsubishi</td>      <td>porsche</td>      <td>14205.0</td>    <td>3194.4898</td>  <td>25215.5102</td>   <td>True</td> \n",
       "</tr>\n",
       "<tr>\n",
       "   <td>mitsubishi</td>       <td>saab</td>       <td>7410.3333</td>   <td>1989.1329</td>  <td>12831.5338</td>   <td>True</td> \n",
       "</tr>\n",
       "<tr>\n",
       "   <td>mitsubishi</td>      <td>subaru</td>       <td>728.25</td>     <td>-3766.772</td>   <td>5223.272</td>    <td>False</td>\n",
       "</tr>\n",
       "<tr>\n",
       "   <td>mitsubishi</td>      <td>toyota</td>      <td>1883.6452</td>   <td>-1934.234</td>   <td>5701.5244</td>   <td>False</td>\n",
       "</tr>\n",
       "<tr>\n",
       "   <td>mitsubishi</td>    <td>volkswagen</td>     <td>925.125</td>   <td>-4054.5656</td>   <td>5904.8156</td>   <td>False</td>\n",
       "</tr>\n",
       "<tr>\n",
       "   <td>mitsubishi</td>       <td>volvo</td>     <td>10250.1818</td>   <td>5663.2276</td>   <td>14837.136</td>   <td>True</td> \n",
       "</tr>\n",
       "<tr>\n",
       "     <td>nissan</td>        <td>peugot</td>      <td>5342.9048</td>   <td>666.6751</td>   <td>10019.1344</td>   <td>True</td> \n",
       "</tr>\n",
       "<tr>\n",
       "     <td>nissan</td>       <td>plymouth</td>    <td>-3252.3333</td>  <td>-8201.1896</td>   <td>1696.523</td>    <td>False</td>\n",
       "</tr>\n",
       "<tr>\n",
       "     <td>nissan</td>        <td>porsche</td>    <td>11602.3333</td>   <td>816.5511</td>   <td>22388.1156</td>   <td>True</td> \n",
       "</tr>\n",
       "<tr>\n",
       "     <td>nissan</td>         <td>saab</td>       <td>4807.6667</td>   <td>-141.1896</td>   <td>9756.523</td>    <td>False</td>\n",
       "</tr>\n",
       "<tr>\n",
       "     <td>nissan</td>        <td>subaru</td>     <td>-1874.4167</td>  <td>-5786.8311</td>   <td>2037.9978</td>   <td>False</td>\n",
       "</tr>\n",
       "<tr>\n",
       "     <td>nissan</td>        <td>toyota</td>      <td>-719.0215</td>  <td>-3829.9644</td>   <td>2391.9214</td>   <td>False</td>\n",
       "</tr>\n",
       "<tr>\n",
       "     <td>nissan</td>      <td>volkswagen</td>   <td>-1677.5417</td>  <td>-6138.3805</td>   <td>2783.2971</td>   <td>False</td>\n",
       "</tr>\n",
       "<tr>\n",
       "     <td>nissan</td>         <td>volvo</td>      <td>7647.5152</td>   <td>3629.8152</td>  <td>11665.2151</td>   <td>True</td> \n",
       "</tr>\n",
       "<tr>\n",
       "     <td>peugot</td>       <td>plymouth</td>    <td>-8595.2381</td>  <td>-14435.8471</td> <td>-2754.6291</td>   <td>True</td> \n",
       "</tr>\n",
       "<tr>\n",
       "     <td>peugot</td>        <td>porsche</td>     <td>6259.4286</td>  <td>-4963.5226</td>  <td>17482.3798</td>   <td>False</td>\n",
       "</tr>\n",
       "<tr>\n",
       "     <td>peugot</td>         <td>saab</td>       <td>-535.2381</td>  <td>-6375.8471</td>   <td>5305.3709</td>   <td>False</td>\n",
       "</tr>\n",
       "<tr>\n",
       "     <td>peugot</td>        <td>subaru</td>     <td>-7217.3214</td>  <td>-12210.1684</td> <td>-2224.4744</td>   <td>True</td> \n",
       "</tr>\n",
       "<tr>\n",
       "     <td>peugot</td>        <td>toyota</td>     <td>-6061.9263</td>  <td>-10455.0459</td> <td>-1668.8066</td>   <td>True</td> \n",
       "</tr>\n",
       "<tr>\n",
       "     <td>peugot</td>      <td>volkswagen</td>   <td>-7020.4464</td>  <td>-12453.7343</td> <td>-1587.1585</td>   <td>True</td> \n",
       "</tr>\n",
       "<tr>\n",
       "     <td>peugot</td>         <td>volvo</td>      <td>2304.6104</td>  <td>-2771.1603</td>   <td>7380.381</td>    <td>False</td>\n",
       "</tr>\n",
       "<tr>\n",
       "    <td>plymouth</td>       <td>porsche</td>    <td>14854.6667</td>   <td>3515.4124</td>   <td>26193.921</td>   <td>True</td> \n",
       "</tr>\n",
       "<tr>\n",
       "    <td>plymouth</td>        <td>saab</td>        <td>8060.0</td>     <td>1998.9136</td>  <td>14121.0864</td>   <td>True</td> \n",
       "</tr>\n",
       "<tr>\n",
       "    <td>plymouth</td>       <td>subaru</td>      <td>1377.9167</td>  <td>-3871.1381</td>   <td>6626.9714</td>   <td>False</td>\n",
       "</tr>\n",
       "<tr>\n",
       "    <td>plymouth</td>       <td>toyota</td>      <td>2533.3118</td>  <td>-2148.9478</td>   <td>7215.5715</td>   <td>False</td>\n",
       "</tr>\n",
       "<tr>\n",
       "    <td>plymouth</td>     <td>volkswagen</td>    <td>1574.7917</td>  <td>-4094.8355</td>   <td>7244.4188</td>   <td>False</td>\n",
       "</tr>\n",
       "<tr>\n",
       "    <td>plymouth</td>        <td>volvo</td>     <td>10899.8485</td>   <td>5571.8561</td>  <td>16227.8408</td>   <td>True</td> \n",
       "</tr>\n",
       "<tr>\n",
       "     <td>porsche</td>        <td>saab</td>      <td>-6794.6667</td>  <td>-18133.921</td>   <td>4544.5876</td>   <td>False</td>\n",
       "</tr>\n",
       "<tr>\n",
       "     <td>porsche</td>       <td>subaru</td>      <td>-13476.75</td>  <td>-24403.5289</td> <td>-2549.9711</td>   <td>True</td> \n",
       "</tr>\n",
       "<tr>\n",
       "     <td>porsche</td>       <td>toyota</td>     <td>-12321.3548</td> <td>-22987.4448</td> <td>-1655.2649</td>   <td>True</td> \n",
       "</tr>\n",
       "<tr>\n",
       "     <td>porsche</td>     <td>volkswagen</td>   <td>-13279.875</td>  <td>-24414.8017</td> <td>-2144.9483</td>   <td>True</td> \n",
       "</tr>\n",
       "<tr>\n",
       "     <td>porsche</td>        <td>volvo</td>     <td>-3954.8182</td>  <td>-14919.736</td>   <td>7010.0996</td>   <td>False</td>\n",
       "</tr>\n",
       "<tr>\n",
       "      <td>saab</td>         <td>subaru</td>     <td>-6682.0833</td>  <td>-11931.1381</td> <td>-1433.0286</td>   <td>True</td> \n",
       "</tr>\n",
       "<tr>\n",
       "      <td>saab</td>         <td>toyota</td>     <td>-5526.6882</td>  <td>-10208.9478</td>  <td>-844.4285</td>   <td>True</td> \n",
       "</tr>\n",
       "<tr>\n",
       "      <td>saab</td>       <td>volkswagen</td>   <td>-6485.2083</td>  <td>-12154.8355</td>  <td>-815.5812</td>   <td>True</td> \n",
       "</tr>\n",
       "<tr>\n",
       "      <td>saab</td>          <td>volvo</td>      <td>2839.8485</td>  <td>-2488.1439</td>   <td>8167.8408</td>   <td>False</td>\n",
       "</tr>\n",
       "<tr>\n",
       "     <td>subaru</td>        <td>toyota</td>      <td>1155.3952</td>  <td>-2413.8293</td>   <td>4724.6196</td>   <td>False</td>\n",
       "</tr>\n",
       "<tr>\n",
       "     <td>subaru</td>      <td>volkswagen</td>     <td>196.875</td>   <td>-4594.8345</td>   <td>4988.5845</td>   <td>False</td>\n",
       "</tr>\n",
       "<tr>\n",
       "     <td>subaru</td>         <td>volvo</td>      <td>9521.9318</td>   <td>5139.7736</td>   <td>13904.09</td>    <td>True</td> \n",
       "</tr>\n",
       "<tr>\n",
       "     <td>toyota</td>      <td>volkswagen</td>    <td>-958.5202</td>  <td>-5121.6271</td>   <td>3204.5867</td>   <td>False</td>\n",
       "</tr>\n",
       "<tr>\n",
       "     <td>toyota</td>         <td>volvo</td>      <td>8366.5367</td>   <td>4682.2064</td>  <td>12050.8669</td>   <td>True</td> \n",
       "</tr>\n",
       "<tr>\n",
       "   <td>volkswagen</td>       <td>volvo</td>      <td>9325.0568</td>   <td>4447.0032</td>  <td>14203.1104</td>   <td>True</td> \n",
       "</tr>\n",
       "</table>"
      ],
      "text/plain": [
       "<class 'statsmodels.iolib.table.SimpleTable'>"
      ]
     },
     "execution_count": 51,
     "metadata": {},
     "output_type": "execute_result"
    },
    {
     "data": {
      "image/png": "[encoded data removed]",
      "text/plain": [
       "<matplotlib.figure.Figure at 0x1b9b16d5dd8>"
      ]
     },
     "metadata": {},
     "output_type": "display_data"
    }
   ],
   "source": [
    "data =  Automobile_df[['price','make']]\n",
    "\n",
    "from statsmodels.stats.multicomp import pairwise_tukeyhsd\n",
    "\n",
    "tukey = pairwise_tukeyhsd(endog=data['price'],     # Data\n",
    "                          groups=data['make'],   # Groups\n",
    "                          alpha=0.05)          # Significance level\n",
    "\n",
    "tukey.plot_simultaneous()    # Plot group confidence intervals\n",
    "tukey.summary()   \n"
   ]
  },
  {
   "cell_type": "code",
   "execution_count": 52,
   "metadata": {},
   "outputs": [
    {
     "name": "stderr",
     "output_type": "stream",
     "text": [
      "C:\\Users\\Gandhi\\Anaconda3\\lib\\site-packages\\numpy\\core\\fromnumeric.py:57: FutureWarning:\n",
      "\n",
      "reshape is deprecated and will raise in a subsequent release. Please use .values.reshape(...) instead\n",
      "\n"
     ]
    },
    {
     "data": {
      "text/plain": [
       "(0.0, 50000.0)"
      ]
     },
     "execution_count": 52,
     "metadata": {},
     "output_type": "execute_result"
    },
    {
     "data": {
      "image/png": "[encoded data removed]",
      "text/plain": [
       "<matplotlib.figure.Figure at 0x1b9b17f58d0>"
      ]
     },
     "metadata": {},
     "output_type": "display_data"
    }
   ],
   "source": [
    "fig = plt.figure(figsize=(15, 8)) # define plot area\n",
    "ax = fig.gca() # define axis \n",
    "Automobile_df.loc[:,['price', 'aspiration']].boxplot(by = 'aspiration', ax = ax)\n",
    "ax.set_title('Box plot of price') # Give the plot a main title\n",
    "ax.set_ylabel('Auto Price')# Set text for y axis\n",
    "ax.set_ylim(0.0, 50000.0) # Set the limits of the y axis"
   ]
  },
  {
   "cell_type": "code",
   "execution_count": 53,
   "metadata": {
    "collapsed": true
   },
   "outputs": [],
   "source": [
    "data =  Automobile_df[['price','aspiration']]"
   ]
  },
  {
   "cell_type": "code",
   "execution_count": 54,
   "metadata": {},
   "outputs": [
    {
     "name": "stdout",
     "output_type": "stream",
     "text": [
      "Multiple Comparison of Means - Tukey HSD,FWER=0.05\n",
      "=================================================\n",
      "group1 group2 meandiff   lower     upper   reject\n",
      "-------------------------------------------------\n",
      " std   turbo  6760.904 4543.7526 8978.0555  True \n",
      "-------------------------------------------------\n",
      "['std' 'turbo']\n"
     ]
    }
   ],
   "source": [
    "from statsmodels.stats.multicomp import pairwise_tukeyhsd\n",
    "from statsmodels.stats.multicomp import MultiComparison\n",
    "\n",
    "mc = MultiComparison( data['price'], data['aspiration'],)\n",
    "result = mc.tukeyhsd()\n",
    "\n",
    " \n",
    "print(result)\n",
    "print(mc.groupsunique)"
   ]
  },
  {
   "cell_type": "code",
   "execution_count": 55,
   "metadata": {},
   "outputs": [
    {
     "name": "stderr",
     "output_type": "stream",
     "text": [
      "C:\\Users\\Gandhi\\Anaconda3\\lib\\site-packages\\numpy\\core\\fromnumeric.py:57: FutureWarning:\n",
      "\n",
      "reshape is deprecated and will raise in a subsequent release. Please use .values.reshape(...) instead\n",
      "\n"
     ]
    },
    {
     "data": {
      "text/plain": [
       "(0.0, 50000.0)"
      ]
     },
     "execution_count": 55,
     "metadata": {},
     "output_type": "execute_result"
    },
    {
     "data": {
      "image/png": "[encoded data removed]",
      "text/plain": [
       "<matplotlib.figure.Figure at 0x1b9b182b2e8>"
      ]
     },
     "metadata": {},
     "output_type": "display_data"
    }
   ],
   "source": [
    "fig = plt.figure(figsize=(15, 8)) # define plot area\n",
    "ax = fig.gca() # define axis \n",
    "Automobile_df.loc[:,['price', 'num-of-doors']].boxplot(by = 'num-of-doors', ax = ax)\n",
    "ax.set_title('Box plot of price') # Give the plot a main title\n",
    "ax.set_ylabel('Auto Price')# Set text for y axis\n",
    "ax.set_ylim(0.0, 50000.0) # Set the limits of the y axis"
   ]
  },
  {
   "cell_type": "code",
   "execution_count": 56,
   "metadata": {
    "collapsed": true
   },
   "outputs": [],
   "source": [
    "data =  Automobile_df[['price','num-of-doors']]"
   ]
  },
  {
   "cell_type": "code",
   "execution_count": 57,
   "metadata": {},
   "outputs": [
    {
     "name": "stdout",
     "output_type": "stream",
     "text": [
      "Multiple Comparison of Means - Tukey HSD,FWER=0.05\n",
      "================================================\n",
      "group1 group2  meandiff   lower    upper  reject\n",
      "------------------------------------------------\n",
      " four   two   -1937.386 -3795.906 -78.866  True \n",
      "------------------------------------------------\n",
      "['four' 'two']\n"
     ]
    }
   ],
   "source": [
    "from statsmodels.stats.multicomp import pairwise_tukeyhsd\n",
    "from statsmodels.stats.multicomp import MultiComparison\n",
    "\n",
    "mc = MultiComparison( data['price'], data['num-of-doors'],)\n",
    "result = mc.tukeyhsd()\n",
    "\n",
    " \n",
    "print(result)\n",
    "print(mc.groupsunique)"
   ]
  },
  {
   "cell_type": "code",
   "execution_count": 58,
   "metadata": {},
   "outputs": [
    {
     "name": "stderr",
     "output_type": "stream",
     "text": [
      "C:\\Users\\Gandhi\\Anaconda3\\lib\\site-packages\\numpy\\core\\fromnumeric.py:57: FutureWarning:\n",
      "\n",
      "reshape is deprecated and will raise in a subsequent release. Please use .values.reshape(...) instead\n",
      "\n"
     ]
    },
    {
     "data": {
      "text/plain": [
       "(0.0, 50000.0)"
      ]
     },
     "execution_count": 58,
     "metadata": {},
     "output_type": "execute_result"
    },
    {
     "data": {
      "image/png": "[encoded data removed]",
      "text/plain": [
       "<matplotlib.figure.Figure at 0x1b9b1a1d3c8>"
      ]
     },
     "metadata": {},
     "output_type": "display_data"
    }
   ],
   "source": [
    "fig = plt.figure(figsize=(10, 10)) # define plot area\n",
    "ax = fig.gca() # define axis \n",
    "Automobile_df.loc[:,['price', 'drive-wheels']].boxplot(by = 'drive-wheels', ax = ax)\n",
    "ax.set_title('Box plot of price') # Give the plot a main title\n",
    "ax.set_ylabel('Auto Price')# Set text for y axis\n",
    "ax.set_ylim(0.0, 50000.0) # Set the limits of the y axis"
   ]
  },
  {
   "cell_type": "code",
   "execution_count": 59,
   "metadata": {
    "collapsed": true
   },
   "outputs": [],
   "source": [
    "data =  Automobile_df[['price','drive-wheels']]"
   ]
  },
  {
   "cell_type": "code",
   "execution_count": 60,
   "metadata": {},
   "outputs": [
    {
     "name": "stdout",
     "output_type": "stream",
     "text": [
      "  Multiple Comparison of Means - Tukey HSD,FWER=0.05 \n",
      "=====================================================\n",
      "group1 group2  meandiff    lower      upper    reject\n",
      "-----------------------------------------------------\n",
      " 4wd    fwd   -1429.9619 -5195.8194 2335.8956  False \n",
      " 4wd    rwd   7428.2174  3495.0967  11361.3381  True \n",
      " fwd    rwd   8858.1793  7042.7505  10673.6081  True \n",
      "-----------------------------------------------------\n",
      "['4wd' 'fwd' 'rwd']\n"
     ]
    }
   ],
   "source": [
    "from statsmodels.stats.multicomp import pairwise_tukeyhsd\n",
    "from statsmodels.stats.multicomp import MultiComparison\n",
    "\n",
    "mc = MultiComparison( data['price'], data['drive-wheels'],)\n",
    "result = mc.tukeyhsd()\n",
    "\n",
    " \n",
    "print(result)\n",
    "print(mc.groupsunique)"
   ]
  },
  {
   "cell_type": "markdown",
   "metadata": {},
   "source": [
    "There is not sufficient data for engine - location to proceed further. "
   ]
  },
  {
   "cell_type": "code",
   "execution_count": 61,
   "metadata": {},
   "outputs": [
    {
     "data": {
      "text/plain": [
       "(0.0, 50000.0)"
      ]
     },
     "execution_count": 61,
     "metadata": {},
     "output_type": "execute_result"
    },
    {
     "data": {
      "image/png": "[encoded data removed]",
      "text/plain": [
       "<matplotlib.figure.Figure at 0x1b9b1997710>"
      ]
     },
     "metadata": {},
     "output_type": "display_data"
    }
   ],
   "source": [
    "fig = plt.figure(figsize=(10, 10)) # define plot area\n",
    "ax = fig.gca() # define axis \n",
    "Automobile_df.loc[:,['price', 'engine-location']].boxplot(by = 'engine-location', ax = ax)\n",
    "ax.set_title('Box plot of price') # Give the plot a main title\n",
    "ax.set_ylabel('Auto Price')# Set text for y axis\n",
    "ax.set_ylim(0.0, 50000.0) # Set the limits of the y axis"
   ]
  },
  {
   "cell_type": "code",
   "execution_count": 62,
   "metadata": {},
   "outputs": [
    {
     "name": "stderr",
     "output_type": "stream",
     "text": [
      "C:\\Users\\Gandhi\\Anaconda3\\lib\\site-packages\\numpy\\core\\fromnumeric.py:57: FutureWarning:\n",
      "\n",
      "reshape is deprecated and will raise in a subsequent release. Please use .values.reshape(...) instead\n",
      "\n"
     ]
    },
    {
     "data": {
      "text/plain": [
       "(0.0, 50000.0)"
      ]
     },
     "execution_count": 62,
     "metadata": {},
     "output_type": "execute_result"
    },
    {
     "data": {
      "image/png": "[encoded data removed]",
      "text/plain": [
       "<matplotlib.figure.Figure at 0x1b9b19c2240>"
      ]
     },
     "metadata": {},
     "output_type": "display_data"
    }
   ],
   "source": [
    "fig = plt.figure(figsize=(10, 10)) # define plot area\n",
    "ax = fig.gca() # define axis \n",
    "Automobile_df.loc[:,['price', 'engine-type']].boxplot(by = 'engine-type', ax = ax)\n",
    "ax.set_title('Box plot of price') # Give the plot a main title\n",
    "ax.set_ylabel('Auto Price')# Set text for y axis\n",
    "ax.set_ylim(0.0, 50000.0) # Set the limits of the y axis"
   ]
  },
  {
   "cell_type": "code",
   "execution_count": 63,
   "metadata": {
    "collapsed": true
   },
   "outputs": [],
   "source": [
    "data =  Automobile_df[['price','engine-type']]"
   ]
  },
  {
   "cell_type": "code",
   "execution_count": 64,
   "metadata": {},
   "outputs": [
    {
     "name": "stdout",
     "output_type": "stream",
     "text": [
      "  Multiple Comparison of Means - Tukey HSD,FWER=0.05  \n",
      "======================================================\n",
      "group1 group2  meandiff     lower      upper    reject\n",
      "------------------------------------------------------\n",
      " dohc    l    -2580.125  -10032.0243 4871.7743  False \n",
      " dohc   ohc   -6341.3841 -11779.3324 -903.4359   True \n",
      " dohc   ohcf   -8471.5   -15274.1222 -1668.8778  True \n",
      " dohc   ohcv   2141.625   -5310.2743 9593.5243  False \n",
      "  l     ohc   -3761.2591  -9199.2074 1676.6891  False \n",
      "  l     ohcf  -5891.375  -12693.9972  911.2472  False \n",
      "  l     ohcv   4721.75    -2730.1493 12173.6493 False \n",
      " ohc    ohcf  -2130.1159  -6637.4596 2377.2279  False \n",
      " ohc    ohcv  8483.0091   3045.0609  13920.9574  True \n",
      " ohcf   ohcv  10613.125   3810.5028  17415.7472  True \n",
      "------------------------------------------------------\n",
      "['dohc' 'l' 'ohc' 'ohcf' 'ohcv']\n"
     ]
    }
   ],
   "source": [
    "from statsmodels.stats.multicomp import pairwise_tukeyhsd\n",
    "from statsmodels.stats.multicomp import MultiComparison\n",
    "\n",
    "mc = MultiComparison( data['price'], data['engine-type'],)\n",
    "result = mc.tukeyhsd()\n",
    "\n",
    " \n",
    "print(result)\n",
    "print(mc.groupsunique)"
   ]
  },
  {
   "cell_type": "code",
   "execution_count": 65,
   "metadata": {},
   "outputs": [
    {
     "name": "stderr",
     "output_type": "stream",
     "text": [
      "C:\\Users\\Gandhi\\Anaconda3\\lib\\site-packages\\numpy\\core\\fromnumeric.py:57: FutureWarning:\n",
      "\n",
      "reshape is deprecated and will raise in a subsequent release. Please use .values.reshape(...) instead\n",
      "\n"
     ]
    },
    {
     "data": {
      "text/plain": [
       "(0.0, 50000.0)"
      ]
     },
     "execution_count": 65,
     "metadata": {},
     "output_type": "execute_result"
    },
    {
     "data": {
      "image/png": "[encoded data removed]",
      "text/plain": [
       "<matplotlib.figure.Figure at 0x1b9b125d4a8>"
      ]
     },
     "metadata": {},
     "output_type": "display_data"
    }
   ],
   "source": [
    "fig = plt.figure(figsize=(10, 10)) # define plot area\n",
    "ax = fig.gca() # define axis \n",
    "Automobile_df.loc[:,['price', 'num-of-cylinders']].boxplot(by = 'num-of-cylinders', ax = ax)\n",
    "ax.set_title('Box plot of price') # Give the plot a main title\n",
    "ax.set_ylabel('Auto Price')# Set text for y axis\n",
    "ax.set_ylim(0.0, 50000.0) # Set the limits of the y axis"
   ]
  },
  {
   "cell_type": "code",
   "execution_count": 66,
   "metadata": {
    "collapsed": true
   },
   "outputs": [],
   "source": [
    "data =  Automobile_df[['price','num-of-cylinders']]"
   ]
  },
  {
   "cell_type": "code",
   "execution_count": 67,
   "metadata": {},
   "outputs": [
    {
     "name": "stdout",
     "output_type": "stream",
     "text": [
      "   Multiple Comparison of Means - Tukey HSD,FWER=0.05   \n",
      "========================================================\n",
      "group1 group2   meandiff     lower       upper    reject\n",
      "--------------------------------------------------------\n",
      "eight   five  -10397.2857 -22403.7832  1609.2118  False \n",
      "eight   four   -25174.875  -36447.14   -13902.61   True \n",
      "eight   six   -16254.5714 -27879.8127  -4629.3302  True \n",
      "eight  three    -29905.0  -45788.1033 -14021.8967  True \n",
      " five   four  -14777.5893 -19130.4013 -10424.7773  True \n",
      " five   six    -5857.2857 -11056.2517  -658.3198   True \n",
      " five  three  -19507.7143 -31514.2118  -7501.2168  True \n",
      " four   six    8920.3036   5767.9674   12072.6397  True \n",
      " four  three   -4730.125   -16002.39    6542.14   False \n",
      " six   three  -13650.4286 -25275.6698  -2025.1873  True \n",
      "--------------------------------------------------------\n",
      "['eight' 'five' 'four' 'six' 'three']\n"
     ]
    }
   ],
   "source": [
    "from statsmodels.stats.multicomp import pairwise_tukeyhsd\n",
    "from statsmodels.stats.multicomp import MultiComparison\n",
    "\n",
    "mc = MultiComparison( data['price'], data['num-of-cylinders'],)\n",
    "result = mc.tukeyhsd()\n",
    "\n",
    " \n",
    "print(result)\n",
    "print(mc.groupsunique)"
   ]
  },
  {
   "cell_type": "code",
   "execution_count": 68,
   "metadata": {},
   "outputs": [
    {
     "name": "stderr",
     "output_type": "stream",
     "text": [
      "C:\\Users\\Gandhi\\Anaconda3\\lib\\site-packages\\numpy\\core\\fromnumeric.py:57: FutureWarning:\n",
      "\n",
      "reshape is deprecated and will raise in a subsequent release. Please use .values.reshape(...) instead\n",
      "\n"
     ]
    },
    {
     "data": {
      "text/plain": [
       "(0.0, 50000.0)"
      ]
     },
     "execution_count": 68,
     "metadata": {},
     "output_type": "execute_result"
    },
    {
     "data": {
      "image/png": "[encoded data removed]",
      "text/plain": [
       "<matplotlib.figure.Figure at 0x1b9b11308d0>"
      ]
     },
     "metadata": {},
     "output_type": "display_data"
    }
   ],
   "source": [
    "fig = plt.figure(figsize=(10, 10)) # define plot area\n",
    "ax = fig.gca() # define axis \n",
    "Automobile_df.loc[:,['price', 'fuel-system']].boxplot(by = 'fuel-system', ax = ax)\n",
    "ax.set_title('Box plot of price') # Give the plot a main title\n",
    "ax.set_ylabel('Auto Price')# Set text for y axis\n",
    "ax.set_ylim(0.0, 50000.0) # Set the limits of the y axis"
   ]
  },
  {
   "cell_type": "code",
   "execution_count": 69,
   "metadata": {
    "collapsed": true
   },
   "outputs": [],
   "source": [
    "data =  Automobile_df[['price','fuel-system']]"
   ]
  },
  {
   "cell_type": "code",
   "execution_count": 70,
   "metadata": {},
   "outputs": [
    {
     "name": "stdout",
     "output_type": "stream",
     "text": [
      "  Multiple Comparison of Means - Tukey HSD,FWER=0.05  \n",
      "======================================================\n",
      "group1 group2  meandiff     lower      upper    reject\n",
      "------------------------------------------------------\n",
      " 1bbl   2bbl  -112.0534   -4318.7414 4094.6347  False \n",
      " 1bbl   idi   8634.0545   3523.8796  13744.2295  True \n",
      " 1bbl   mfi   5408.4545   -8037.3052 18854.2143 False \n",
      " 1bbl   mpfi  7567.0952   3365.2953  11768.8951  True \n",
      " 1bbl   spdi  1277.0545   -5666.3059  8220.415  False \n",
      " 2bbl   idi   8746.1079   5047.6349  12444.581   True \n",
      " 2bbl   mfi   5520.5079   -7454.594  18495.6098 False \n",
      " 2bbl   mpfi  7679.1486   5394.4302  9963.8669   True \n",
      " 2bbl   spdi  1389.1079   -4592.1185 7370.3344  False \n",
      " idi    mfi    -3225.6    -16521.123 10069.923  False \n",
      " idi    mpfi  -1066.9594  -4759.8717 2625.9529  False \n",
      " idi    spdi   -7357.0   -14004.7615 -709.2385   True \n",
      " mfi    mpfi  2158.6406  -10814.8773 15132.1586 False \n",
      " mfi    spdi   -4131.4   -18233.4318 9970.6318  False \n",
      " mpfi   spdi  -6290.0406 -12267.8302 -312.2511   True \n",
      "------------------------------------------------------\n",
      "['1bbl' '2bbl' 'idi' 'mfi' 'mpfi' 'spdi']\n"
     ]
    }
   ],
   "source": [
    "from statsmodels.stats.multicomp import pairwise_tukeyhsd\n",
    "from statsmodels.stats.multicomp import MultiComparison\n",
    "\n",
    "mc = MultiComparison( data['price'], data['fuel-system'],)\n",
    "result = mc.tukeyhsd()\n",
    "\n",
    " \n",
    "print(result)\n",
    "print(mc.groupsunique)"
   ]
  },
  {
   "cell_type": "markdown",
   "metadata": {},
   "source": [
    "Tukey's test compares the means of every treatment to the means of every other treatment; that is, it applies simultaneously to the set of all pairwise comparisons."
   ]
  },
  {
   "cell_type": "code",
   "execution_count": 71,
   "metadata": {},
   "outputs": [
    {
     "data": {
      "text/plain": [
       "<matplotlib.axes._subplots.AxesSubplot at 0x1b9b17e8588>"
      ]
     },
     "execution_count": 71,
     "metadata": {},
     "output_type": "execute_result"
    },
    {
     "data": {
      "image/png": "[encoded data removed]",
      "text/plain": [
       "<matplotlib.figure.Figure at 0x1b9b17e8a90>"
      ]
     },
     "metadata": {},
     "output_type": "display_data"
    }
   ],
   "source": [
    "skewed_data =  Automobile_df['engine-size']\n",
    "uniform_data = Automobile_df['horsepower']\n",
    "peaked_data =  Automobile_df['normalized-losses']\n",
    "\n",
    "data_df = pd.DataFrame({\"skewed\":skewed_data,\n",
    "                        \"uniform\":uniform_data,\n",
    "                       \"peaked\":peaked_data})\n",
    "\n",
    "data_df.plot(kind=\"density\",figsize=(10,10))"
   ]
  }
 ],
 "metadata": {
  "kernelspec": {
   "display_name": "Python 3",
   "language": "python",
   "name": "python3"
  },
  "language_info": {
   "codemirror_mode": {
    "name": "ipython",
    "version": 3
   },
   "file_extension": ".py",
   "mimetype": "text/x-python",
   "name": "python",
   "nbconvert_exporter": "python",
   "pygments_lexer": "ipython3",
   "version": "3.6.3"
  }
 },
 "nbformat": 4,
 "nbformat_minor": 2
}
